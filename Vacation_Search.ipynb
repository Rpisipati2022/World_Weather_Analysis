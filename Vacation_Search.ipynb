{
 "cells": [
  {
   "cell_type": "code",
   "execution_count": 31,
   "id": "4af4198f",
   "metadata": {},
   "outputs": [],
   "source": [
    "# Import the dependencies.\n",
    "import pandas as pd\n",
    "import gmaps\n",
    "import requests\n",
    "# Import the API key.\n",
    "from config import g_key\n"
   ]
  },
  {
   "cell_type": "code",
   "execution_count": 97,
   "id": "9da28679",
   "metadata": {},
   "outputs": [
    {
     "ename": "FileNotFoundError",
     "evalue": "[Errno 2] No such file or directory: 'WeatherPy_Database.csv'",
     "output_type": "error",
     "traceback": [
      "\u001b[0;31m---------------------------------------------------------------------------\u001b[0m",
      "\u001b[0;31mFileNotFoundError\u001b[0m                         Traceback (most recent call last)",
      "Input \u001b[0;32mIn [97]\u001b[0m, in \u001b[0;36m<cell line: 2>\u001b[0;34m()\u001b[0m\n\u001b[1;32m      1\u001b[0m \u001b[38;5;66;03m# Store the CSV you saved created in part one into a DataFrame.\u001b[39;00m\n\u001b[0;32m----> 2\u001b[0m city_data_df \u001b[38;5;241m=\u001b[39m \u001b[43mpd\u001b[49m\u001b[38;5;241;43m.\u001b[39;49m\u001b[43mread_csv\u001b[49m\u001b[43m(\u001b[49m\u001b[38;5;124;43m\"\u001b[39;49m\u001b[38;5;124;43mWeatherPy_Database.csv\u001b[39;49m\u001b[38;5;124;43m\"\u001b[39;49m\u001b[43m)\u001b[49m\n\u001b[1;32m      3\u001b[0m \u001b[38;5;66;03m#city_data_df = pd.read_csv(\"weather_data/cities.csv\")\u001b[39;00m\n\u001b[1;32m      4\u001b[0m city_data_df\u001b[38;5;241m.\u001b[39mhead()\n",
      "File \u001b[0;32m~/opt/anaconda3/lib/python3.9/site-packages/pandas/util/_decorators.py:311\u001b[0m, in \u001b[0;36mdeprecate_nonkeyword_arguments.<locals>.decorate.<locals>.wrapper\u001b[0;34m(*args, **kwargs)\u001b[0m\n\u001b[1;32m    305\u001b[0m \u001b[38;5;28;01mif\u001b[39;00m \u001b[38;5;28mlen\u001b[39m(args) \u001b[38;5;241m>\u001b[39m num_allow_args:\n\u001b[1;32m    306\u001b[0m     warnings\u001b[38;5;241m.\u001b[39mwarn(\n\u001b[1;32m    307\u001b[0m         msg\u001b[38;5;241m.\u001b[39mformat(arguments\u001b[38;5;241m=\u001b[39marguments),\n\u001b[1;32m    308\u001b[0m         \u001b[38;5;167;01mFutureWarning\u001b[39;00m,\n\u001b[1;32m    309\u001b[0m         stacklevel\u001b[38;5;241m=\u001b[39mstacklevel,\n\u001b[1;32m    310\u001b[0m     )\n\u001b[0;32m--> 311\u001b[0m \u001b[38;5;28;01mreturn\u001b[39;00m \u001b[43mfunc\u001b[49m\u001b[43m(\u001b[49m\u001b[38;5;241;43m*\u001b[39;49m\u001b[43margs\u001b[49m\u001b[43m,\u001b[49m\u001b[43m \u001b[49m\u001b[38;5;241;43m*\u001b[39;49m\u001b[38;5;241;43m*\u001b[39;49m\u001b[43mkwargs\u001b[49m\u001b[43m)\u001b[49m\n",
      "File \u001b[0;32m~/opt/anaconda3/lib/python3.9/site-packages/pandas/io/parsers/readers.py:680\u001b[0m, in \u001b[0;36mread_csv\u001b[0;34m(filepath_or_buffer, sep, delimiter, header, names, index_col, usecols, squeeze, prefix, mangle_dupe_cols, dtype, engine, converters, true_values, false_values, skipinitialspace, skiprows, skipfooter, nrows, na_values, keep_default_na, na_filter, verbose, skip_blank_lines, parse_dates, infer_datetime_format, keep_date_col, date_parser, dayfirst, cache_dates, iterator, chunksize, compression, thousands, decimal, lineterminator, quotechar, quoting, doublequote, escapechar, comment, encoding, encoding_errors, dialect, error_bad_lines, warn_bad_lines, on_bad_lines, delim_whitespace, low_memory, memory_map, float_precision, storage_options)\u001b[0m\n\u001b[1;32m    665\u001b[0m kwds_defaults \u001b[38;5;241m=\u001b[39m _refine_defaults_read(\n\u001b[1;32m    666\u001b[0m     dialect,\n\u001b[1;32m    667\u001b[0m     delimiter,\n\u001b[0;32m   (...)\u001b[0m\n\u001b[1;32m    676\u001b[0m     defaults\u001b[38;5;241m=\u001b[39m{\u001b[38;5;124m\"\u001b[39m\u001b[38;5;124mdelimiter\u001b[39m\u001b[38;5;124m\"\u001b[39m: \u001b[38;5;124m\"\u001b[39m\u001b[38;5;124m,\u001b[39m\u001b[38;5;124m\"\u001b[39m},\n\u001b[1;32m    677\u001b[0m )\n\u001b[1;32m    678\u001b[0m kwds\u001b[38;5;241m.\u001b[39mupdate(kwds_defaults)\n\u001b[0;32m--> 680\u001b[0m \u001b[38;5;28;01mreturn\u001b[39;00m \u001b[43m_read\u001b[49m\u001b[43m(\u001b[49m\u001b[43mfilepath_or_buffer\u001b[49m\u001b[43m,\u001b[49m\u001b[43m \u001b[49m\u001b[43mkwds\u001b[49m\u001b[43m)\u001b[49m\n",
      "File \u001b[0;32m~/opt/anaconda3/lib/python3.9/site-packages/pandas/io/parsers/readers.py:575\u001b[0m, in \u001b[0;36m_read\u001b[0;34m(filepath_or_buffer, kwds)\u001b[0m\n\u001b[1;32m    572\u001b[0m _validate_names(kwds\u001b[38;5;241m.\u001b[39mget(\u001b[38;5;124m\"\u001b[39m\u001b[38;5;124mnames\u001b[39m\u001b[38;5;124m\"\u001b[39m, \u001b[38;5;28;01mNone\u001b[39;00m))\n\u001b[1;32m    574\u001b[0m \u001b[38;5;66;03m# Create the parser.\u001b[39;00m\n\u001b[0;32m--> 575\u001b[0m parser \u001b[38;5;241m=\u001b[39m \u001b[43mTextFileReader\u001b[49m\u001b[43m(\u001b[49m\u001b[43mfilepath_or_buffer\u001b[49m\u001b[43m,\u001b[49m\u001b[43m \u001b[49m\u001b[38;5;241;43m*\u001b[39;49m\u001b[38;5;241;43m*\u001b[39;49m\u001b[43mkwds\u001b[49m\u001b[43m)\u001b[49m\n\u001b[1;32m    577\u001b[0m \u001b[38;5;28;01mif\u001b[39;00m chunksize \u001b[38;5;129;01mor\u001b[39;00m iterator:\n\u001b[1;32m    578\u001b[0m     \u001b[38;5;28;01mreturn\u001b[39;00m parser\n",
      "File \u001b[0;32m~/opt/anaconda3/lib/python3.9/site-packages/pandas/io/parsers/readers.py:933\u001b[0m, in \u001b[0;36mTextFileReader.__init__\u001b[0;34m(self, f, engine, **kwds)\u001b[0m\n\u001b[1;32m    930\u001b[0m     \u001b[38;5;28mself\u001b[39m\u001b[38;5;241m.\u001b[39moptions[\u001b[38;5;124m\"\u001b[39m\u001b[38;5;124mhas_index_names\u001b[39m\u001b[38;5;124m\"\u001b[39m] \u001b[38;5;241m=\u001b[39m kwds[\u001b[38;5;124m\"\u001b[39m\u001b[38;5;124mhas_index_names\u001b[39m\u001b[38;5;124m\"\u001b[39m]\n\u001b[1;32m    932\u001b[0m \u001b[38;5;28mself\u001b[39m\u001b[38;5;241m.\u001b[39mhandles: IOHandles \u001b[38;5;241m|\u001b[39m \u001b[38;5;28;01mNone\u001b[39;00m \u001b[38;5;241m=\u001b[39m \u001b[38;5;28;01mNone\u001b[39;00m\n\u001b[0;32m--> 933\u001b[0m \u001b[38;5;28mself\u001b[39m\u001b[38;5;241m.\u001b[39m_engine \u001b[38;5;241m=\u001b[39m \u001b[38;5;28;43mself\u001b[39;49m\u001b[38;5;241;43m.\u001b[39;49m\u001b[43m_make_engine\u001b[49m\u001b[43m(\u001b[49m\u001b[43mf\u001b[49m\u001b[43m,\u001b[49m\u001b[43m \u001b[49m\u001b[38;5;28;43mself\u001b[39;49m\u001b[38;5;241;43m.\u001b[39;49m\u001b[43mengine\u001b[49m\u001b[43m)\u001b[49m\n",
      "File \u001b[0;32m~/opt/anaconda3/lib/python3.9/site-packages/pandas/io/parsers/readers.py:1217\u001b[0m, in \u001b[0;36mTextFileReader._make_engine\u001b[0;34m(self, f, engine)\u001b[0m\n\u001b[1;32m   1213\u001b[0m     mode \u001b[38;5;241m=\u001b[39m \u001b[38;5;124m\"\u001b[39m\u001b[38;5;124mrb\u001b[39m\u001b[38;5;124m\"\u001b[39m\n\u001b[1;32m   1214\u001b[0m \u001b[38;5;66;03m# error: No overload variant of \"get_handle\" matches argument types\u001b[39;00m\n\u001b[1;32m   1215\u001b[0m \u001b[38;5;66;03m# \"Union[str, PathLike[str], ReadCsvBuffer[bytes], ReadCsvBuffer[str]]\"\u001b[39;00m\n\u001b[1;32m   1216\u001b[0m \u001b[38;5;66;03m# , \"str\", \"bool\", \"Any\", \"Any\", \"Any\", \"Any\", \"Any\"\u001b[39;00m\n\u001b[0;32m-> 1217\u001b[0m \u001b[38;5;28mself\u001b[39m\u001b[38;5;241m.\u001b[39mhandles \u001b[38;5;241m=\u001b[39m \u001b[43mget_handle\u001b[49m\u001b[43m(\u001b[49m\u001b[43m  \u001b[49m\u001b[38;5;66;43;03m# type: ignore[call-overload]\u001b[39;49;00m\n\u001b[1;32m   1218\u001b[0m \u001b[43m    \u001b[49m\u001b[43mf\u001b[49m\u001b[43m,\u001b[49m\n\u001b[1;32m   1219\u001b[0m \u001b[43m    \u001b[49m\u001b[43mmode\u001b[49m\u001b[43m,\u001b[49m\n\u001b[1;32m   1220\u001b[0m \u001b[43m    \u001b[49m\u001b[43mencoding\u001b[49m\u001b[38;5;241;43m=\u001b[39;49m\u001b[38;5;28;43mself\u001b[39;49m\u001b[38;5;241;43m.\u001b[39;49m\u001b[43moptions\u001b[49m\u001b[38;5;241;43m.\u001b[39;49m\u001b[43mget\u001b[49m\u001b[43m(\u001b[49m\u001b[38;5;124;43m\"\u001b[39;49m\u001b[38;5;124;43mencoding\u001b[39;49m\u001b[38;5;124;43m\"\u001b[39;49m\u001b[43m,\u001b[49m\u001b[43m \u001b[49m\u001b[38;5;28;43;01mNone\u001b[39;49;00m\u001b[43m)\u001b[49m\u001b[43m,\u001b[49m\n\u001b[1;32m   1221\u001b[0m \u001b[43m    \u001b[49m\u001b[43mcompression\u001b[49m\u001b[38;5;241;43m=\u001b[39;49m\u001b[38;5;28;43mself\u001b[39;49m\u001b[38;5;241;43m.\u001b[39;49m\u001b[43moptions\u001b[49m\u001b[38;5;241;43m.\u001b[39;49m\u001b[43mget\u001b[49m\u001b[43m(\u001b[49m\u001b[38;5;124;43m\"\u001b[39;49m\u001b[38;5;124;43mcompression\u001b[39;49m\u001b[38;5;124;43m\"\u001b[39;49m\u001b[43m,\u001b[49m\u001b[43m \u001b[49m\u001b[38;5;28;43;01mNone\u001b[39;49;00m\u001b[43m)\u001b[49m\u001b[43m,\u001b[49m\n\u001b[1;32m   1222\u001b[0m \u001b[43m    \u001b[49m\u001b[43mmemory_map\u001b[49m\u001b[38;5;241;43m=\u001b[39;49m\u001b[38;5;28;43mself\u001b[39;49m\u001b[38;5;241;43m.\u001b[39;49m\u001b[43moptions\u001b[49m\u001b[38;5;241;43m.\u001b[39;49m\u001b[43mget\u001b[49m\u001b[43m(\u001b[49m\u001b[38;5;124;43m\"\u001b[39;49m\u001b[38;5;124;43mmemory_map\u001b[39;49m\u001b[38;5;124;43m\"\u001b[39;49m\u001b[43m,\u001b[49m\u001b[43m \u001b[49m\u001b[38;5;28;43;01mFalse\u001b[39;49;00m\u001b[43m)\u001b[49m\u001b[43m,\u001b[49m\n\u001b[1;32m   1223\u001b[0m \u001b[43m    \u001b[49m\u001b[43mis_text\u001b[49m\u001b[38;5;241;43m=\u001b[39;49m\u001b[43mis_text\u001b[49m\u001b[43m,\u001b[49m\n\u001b[1;32m   1224\u001b[0m \u001b[43m    \u001b[49m\u001b[43merrors\u001b[49m\u001b[38;5;241;43m=\u001b[39;49m\u001b[38;5;28;43mself\u001b[39;49m\u001b[38;5;241;43m.\u001b[39;49m\u001b[43moptions\u001b[49m\u001b[38;5;241;43m.\u001b[39;49m\u001b[43mget\u001b[49m\u001b[43m(\u001b[49m\u001b[38;5;124;43m\"\u001b[39;49m\u001b[38;5;124;43mencoding_errors\u001b[39;49m\u001b[38;5;124;43m\"\u001b[39;49m\u001b[43m,\u001b[49m\u001b[43m \u001b[49m\u001b[38;5;124;43m\"\u001b[39;49m\u001b[38;5;124;43mstrict\u001b[39;49m\u001b[38;5;124;43m\"\u001b[39;49m\u001b[43m)\u001b[49m\u001b[43m,\u001b[49m\n\u001b[1;32m   1225\u001b[0m \u001b[43m    \u001b[49m\u001b[43mstorage_options\u001b[49m\u001b[38;5;241;43m=\u001b[39;49m\u001b[38;5;28;43mself\u001b[39;49m\u001b[38;5;241;43m.\u001b[39;49m\u001b[43moptions\u001b[49m\u001b[38;5;241;43m.\u001b[39;49m\u001b[43mget\u001b[49m\u001b[43m(\u001b[49m\u001b[38;5;124;43m\"\u001b[39;49m\u001b[38;5;124;43mstorage_options\u001b[39;49m\u001b[38;5;124;43m\"\u001b[39;49m\u001b[43m,\u001b[49m\u001b[43m \u001b[49m\u001b[38;5;28;43;01mNone\u001b[39;49;00m\u001b[43m)\u001b[49m\u001b[43m,\u001b[49m\n\u001b[1;32m   1226\u001b[0m \u001b[43m\u001b[49m\u001b[43m)\u001b[49m\n\u001b[1;32m   1227\u001b[0m \u001b[38;5;28;01massert\u001b[39;00m \u001b[38;5;28mself\u001b[39m\u001b[38;5;241m.\u001b[39mhandles \u001b[38;5;129;01mis\u001b[39;00m \u001b[38;5;129;01mnot\u001b[39;00m \u001b[38;5;28;01mNone\u001b[39;00m\n\u001b[1;32m   1228\u001b[0m f \u001b[38;5;241m=\u001b[39m \u001b[38;5;28mself\u001b[39m\u001b[38;5;241m.\u001b[39mhandles\u001b[38;5;241m.\u001b[39mhandle\n",
      "File \u001b[0;32m~/opt/anaconda3/lib/python3.9/site-packages/pandas/io/common.py:789\u001b[0m, in \u001b[0;36mget_handle\u001b[0;34m(path_or_buf, mode, encoding, compression, memory_map, is_text, errors, storage_options)\u001b[0m\n\u001b[1;32m    784\u001b[0m \u001b[38;5;28;01melif\u001b[39;00m \u001b[38;5;28misinstance\u001b[39m(handle, \u001b[38;5;28mstr\u001b[39m):\n\u001b[1;32m    785\u001b[0m     \u001b[38;5;66;03m# Check whether the filename is to be opened in binary mode.\u001b[39;00m\n\u001b[1;32m    786\u001b[0m     \u001b[38;5;66;03m# Binary mode does not support 'encoding' and 'newline'.\u001b[39;00m\n\u001b[1;32m    787\u001b[0m     \u001b[38;5;28;01mif\u001b[39;00m ioargs\u001b[38;5;241m.\u001b[39mencoding \u001b[38;5;129;01mand\u001b[39;00m \u001b[38;5;124m\"\u001b[39m\u001b[38;5;124mb\u001b[39m\u001b[38;5;124m\"\u001b[39m \u001b[38;5;129;01mnot\u001b[39;00m \u001b[38;5;129;01min\u001b[39;00m ioargs\u001b[38;5;241m.\u001b[39mmode:\n\u001b[1;32m    788\u001b[0m         \u001b[38;5;66;03m# Encoding\u001b[39;00m\n\u001b[0;32m--> 789\u001b[0m         handle \u001b[38;5;241m=\u001b[39m \u001b[38;5;28;43mopen\u001b[39;49m\u001b[43m(\u001b[49m\n\u001b[1;32m    790\u001b[0m \u001b[43m            \u001b[49m\u001b[43mhandle\u001b[49m\u001b[43m,\u001b[49m\n\u001b[1;32m    791\u001b[0m \u001b[43m            \u001b[49m\u001b[43mioargs\u001b[49m\u001b[38;5;241;43m.\u001b[39;49m\u001b[43mmode\u001b[49m\u001b[43m,\u001b[49m\n\u001b[1;32m    792\u001b[0m \u001b[43m            \u001b[49m\u001b[43mencoding\u001b[49m\u001b[38;5;241;43m=\u001b[39;49m\u001b[43mioargs\u001b[49m\u001b[38;5;241;43m.\u001b[39;49m\u001b[43mencoding\u001b[49m\u001b[43m,\u001b[49m\n\u001b[1;32m    793\u001b[0m \u001b[43m            \u001b[49m\u001b[43merrors\u001b[49m\u001b[38;5;241;43m=\u001b[39;49m\u001b[43merrors\u001b[49m\u001b[43m,\u001b[49m\n\u001b[1;32m    794\u001b[0m \u001b[43m            \u001b[49m\u001b[43mnewline\u001b[49m\u001b[38;5;241;43m=\u001b[39;49m\u001b[38;5;124;43m\"\u001b[39;49m\u001b[38;5;124;43m\"\u001b[39;49m\u001b[43m,\u001b[49m\n\u001b[1;32m    795\u001b[0m \u001b[43m        \u001b[49m\u001b[43m)\u001b[49m\n\u001b[1;32m    796\u001b[0m     \u001b[38;5;28;01melse\u001b[39;00m:\n\u001b[1;32m    797\u001b[0m         \u001b[38;5;66;03m# Binary mode\u001b[39;00m\n\u001b[1;32m    798\u001b[0m         handle \u001b[38;5;241m=\u001b[39m \u001b[38;5;28mopen\u001b[39m(handle, ioargs\u001b[38;5;241m.\u001b[39mmode)\n",
      "\u001b[0;31mFileNotFoundError\u001b[0m: [Errno 2] No such file or directory: 'WeatherPy_Database.csv'"
     ]
    }
   ],
   "source": [
    "# Store the CSV you saved created in part one into a DataFrame.\n",
    "city_data_df = pd.read_csv(\"WeatherPy_Database.csv\")\n",
    "#city_data_df = pd.read_csv(\"weather_data/cities.csv\")\n",
    "city_data_df.head()"
   ]
  },
  {
   "cell_type": "code",
   "execution_count": 35,
   "id": "b3e44b97",
   "metadata": {},
   "outputs": [],
   "source": [
    "# Get the maximum temperature.\n",
    "max_temp = city_data_df[\"Max Temp\"]\n",
    "temps = []\n",
    "for temp in max_temp:\n",
    "    temps.append(max(temp, 0))"
   ]
  },
  {
   "cell_type": "code",
   "execution_count": 27,
   "id": "e1829152",
   "metadata": {},
   "outputs": [
    {
     "data": {
      "text/plain": [
       "City_ID         int64\n",
       "City           object\n",
       "Lat           float64\n",
       "Lng           float64\n",
       "Max Temp      float64\n",
       "Humidity        int64\n",
       "Cloudiness      int64\n",
       "Wind Speed    float64\n",
       "Country        object\n",
       "Date           object\n",
       "dtype: object"
      ]
     },
     "execution_count": 27,
     "metadata": {},
     "output_type": "execute_result"
    }
   ],
   "source": [
    "city_data_df.dtypes"
   ]
  },
  {
   "cell_type": "code",
   "execution_count": 39,
   "id": "925c995f",
   "metadata": {},
   "outputs": [],
   "source": [
    "# Configure gmaps to use your Google API key.\n",
    "\n",
    "gmaps.configure(api_key=g_key)"
   ]
  },
  {
   "cell_type": "code",
   "execution_count": 49,
   "id": "4982aaf1",
   "metadata": {},
   "outputs": [
    {
     "name": "stdout",
     "output_type": "stream",
     "text": [
      "0       17.88\n",
      "1       15.39\n",
      "2       14.64\n",
      "3       13.74\n",
      "4       11.90\n",
      "        ...  \n",
      "574    102.60\n",
      "575    104.54\n",
      "576    104.63\n",
      "577    106.16\n",
      "578    106.66\n",
      "Name: Max Temp, Length: 579, dtype: float64\n"
     ]
    },
    {
     "data": {
      "application/vnd.jupyter.widget-view+json": {
       "model_id": "8c1e3b29393a41529de527d2d29dd1e7",
       "version_major": 2,
       "version_minor": 0
      },
      "text/plain": [
       "Figure(layout=FigureLayout(height='420px'))"
      ]
     },
     "metadata": {},
     "output_type": "display_data"
    }
   ],
   "source": [
    "# Heatmap of temperature\n",
    "# Get the latitude and longitude.\n",
    "locations = city_data_df[[\"Lat\", \"Lng\"]]\n",
    "\n",
    "# Get the maximum temperature.\n",
    "max_temp = city_data_df[\"Max Temp\"]\n",
    "print(max_temp)\n",
    "\n",
    "# Assign the figure variable.\n",
    "#fig = gmaps.figure()\n",
    "fig = gmaps.figure(center=(30.0, 31.0), zoom_level=1.5)\n",
    "\n",
    "# Assign the heatmap variable.\n",
    "#heat_layer = gmaps.heatmap_layer(locations, weights=temps)#\n",
    "#heat_layer = gmaps.heatmap_layer(locations, weights=[max(temp, 0) for temp in max_temp])\n",
    "\n",
    "heat_layer = gmaps.heatmap_layer(locations, weights=[max(temp, 0) for temp in max_temp], dissipating=False, max_intensity=300, point_radius=4)\n",
    "\n",
    "# Add the heatmap layer.\n",
    "fig.add_layer(heat_layer)\n",
    "# Call the figure to plot the data.\n",
    "fig"
   ]
  },
  {
   "cell_type": "code",
   "execution_count": 51,
   "id": "a584e617",
   "metadata": {},
   "outputs": [
    {
     "data": {
      "application/vnd.jupyter.widget-view+json": {
       "model_id": "b0d35d5c06ed4d89812474c6a2281003",
       "version_major": 2,
       "version_minor": 0
      },
      "text/plain": [
       "Figure(layout=FigureLayout(height='420px'))"
      ]
     },
     "metadata": {},
     "output_type": "display_data"
    }
   ],
   "source": [
    "# Heatmap of percent humidity\n",
    "locations = city_data_df[[\"Lat\", \"Lng\"]]\n",
    "humidity = city_data_df[\"Humidity\"]\n",
    "fig = gmaps.figure(center=(30.0, 31.0), zoom_level=1.5)\n",
    "heat_layer = gmaps.heatmap_layer(locations, weights=humidity, dissipating=False, max_intensity=300, point_radius=4)\n",
    "\n",
    "fig.add_layer(heat_layer)\n",
    "# Call the figure to plot the data.\n",
    "fig"
   ]
  },
  {
   "cell_type": "code",
   "execution_count": 53,
   "id": "77299b55",
   "metadata": {},
   "outputs": [
    {
     "data": {
      "application/vnd.jupyter.widget-view+json": {
       "model_id": "231e3b1ce6b24ed0b433c4dd144b6380",
       "version_major": 2,
       "version_minor": 0
      },
      "text/plain": [
       "Figure(layout=FigureLayout(height='420px'))"
      ]
     },
     "metadata": {},
     "output_type": "display_data"
    }
   ],
   "source": [
    "# Heatmap of percent cloudiness\n",
    "locations = city_data_df[[\"Lat\", \"Lng\"]]\n",
    "cloudiness = city_data_df[\"Cloudiness\"]\n",
    "fig = gmaps.figure(center=(30.0, 31.0), zoom_level=1.5)\n",
    "heat_layer = gmaps.heatmap_layer(locations, weights=cloudiness, dissipating=False, max_intensity=300, point_radius=4)\n",
    "\n",
    "fig.add_layer(heat_layer)\n",
    "# Call the figure to plot the data.\n",
    "fig"
   ]
  },
  {
   "cell_type": "code",
   "execution_count": 55,
   "id": "8844c57e",
   "metadata": {},
   "outputs": [
    {
     "data": {
      "application/vnd.jupyter.widget-view+json": {
       "model_id": "f18fb858e3634d61ac72a60795877bda",
       "version_major": 2,
       "version_minor": 0
      },
      "text/plain": [
       "Figure(layout=FigureLayout(height='420px'))"
      ]
     },
     "metadata": {},
     "output_type": "display_data"
    }
   ],
   "source": [
    "# Heatmap of percent cloudiness\n",
    "locations = city_data_df[[\"Lat\", \"Lng\"]]\n",
    "wind = city_data_df[\"Wind Speed\"]\n",
    "fig = gmaps.figure(center=(30.0, 31.0), zoom_level=1.5)\n",
    "heat_layer = gmaps.heatmap_layer(locations, weights=wind, dissipating=False, max_intensity=300, point_radius=4)\n",
    "\n",
    "fig.add_layer(heat_layer)\n",
    "# Call the figure to plot the data.\n",
    "fig"
   ]
  },
  {
   "cell_type": "code",
   "execution_count": 59,
   "id": "f8548040",
   "metadata": {},
   "outputs": [
    {
     "name": "stdout",
     "output_type": "stream",
     "text": [
      "What is the minimum temperature you would like for your trip? 75\n",
      "What is the maximum temperature you would like for your trip? 90\n"
     ]
    }
   ],
   "source": [
    "# Ask the customer to add a minimum and maximum temperature value.\n",
    "min_temp = float(input(\"What is the minimum temperature you would like for your trip? \"))\n",
    "max_temp = float(input(\"What is the maximum temperature you would like for your trip? \"))"
   ]
  },
  {
   "cell_type": "code",
   "execution_count": 60,
   "id": "147734df",
   "metadata": {},
   "outputs": [
    {
     "data": {
      "text/html": [
       "<div>\n",
       "<style scoped>\n",
       "    .dataframe tbody tr th:only-of-type {\n",
       "        vertical-align: middle;\n",
       "    }\n",
       "\n",
       "    .dataframe tbody tr th {\n",
       "        vertical-align: top;\n",
       "    }\n",
       "\n",
       "    .dataframe thead th {\n",
       "        text-align: right;\n",
       "    }\n",
       "</style>\n",
       "<table border=\"1\" class=\"dataframe\">\n",
       "  <thead>\n",
       "    <tr style=\"text-align: right;\">\n",
       "      <th></th>\n",
       "      <th>City_ID</th>\n",
       "      <th>City</th>\n",
       "      <th>Lat</th>\n",
       "      <th>Lng</th>\n",
       "      <th>Max Temp</th>\n",
       "      <th>Humidity</th>\n",
       "      <th>Cloudiness</th>\n",
       "      <th>Wind Speed</th>\n",
       "      <th>Country</th>\n",
       "      <th>Date</th>\n",
       "    </tr>\n",
       "  </thead>\n",
       "  <tbody>\n",
       "    <tr>\n",
       "      <th>397</th>\n",
       "      <td>411</td>\n",
       "      <td>Cururupu</td>\n",
       "      <td>-1.8283</td>\n",
       "      <td>-44.8683</td>\n",
       "      <td>75.06</td>\n",
       "      <td>97</td>\n",
       "      <td>95</td>\n",
       "      <td>2.80</td>\n",
       "      <td>BR</td>\n",
       "      <td>3/26/22 9:41</td>\n",
       "    </tr>\n",
       "    <tr>\n",
       "      <th>398</th>\n",
       "      <td>230</td>\n",
       "      <td>Noumea</td>\n",
       "      <td>-22.2763</td>\n",
       "      <td>166.4572</td>\n",
       "      <td>75.18</td>\n",
       "      <td>74</td>\n",
       "      <td>73</td>\n",
       "      <td>10.25</td>\n",
       "      <td>NC</td>\n",
       "      <td>3/26/22 9:35</td>\n",
       "    </tr>\n",
       "    <tr>\n",
       "      <th>399</th>\n",
       "      <td>251</td>\n",
       "      <td>Iquitos</td>\n",
       "      <td>-3.7481</td>\n",
       "      <td>-73.2472</td>\n",
       "      <td>75.24</td>\n",
       "      <td>94</td>\n",
       "      <td>75</td>\n",
       "      <td>6.91</td>\n",
       "      <td>PE</td>\n",
       "      <td>3/26/22 9:34</td>\n",
       "    </tr>\n",
       "    <tr>\n",
       "      <th>400</th>\n",
       "      <td>345</td>\n",
       "      <td>Sao Joao Da Barra</td>\n",
       "      <td>-21.6403</td>\n",
       "      <td>-41.0511</td>\n",
       "      <td>75.29</td>\n",
       "      <td>89</td>\n",
       "      <td>94</td>\n",
       "      <td>10.71</td>\n",
       "      <td>BR</td>\n",
       "      <td>3/26/22 9:39</td>\n",
       "    </tr>\n",
       "    <tr>\n",
       "      <th>401</th>\n",
       "      <td>105</td>\n",
       "      <td>Charters Towers</td>\n",
       "      <td>-20.1000</td>\n",
       "      <td>146.2667</td>\n",
       "      <td>75.36</td>\n",
       "      <td>63</td>\n",
       "      <td>89</td>\n",
       "      <td>14.07</td>\n",
       "      <td>AU</td>\n",
       "      <td>3/26/22 9:30</td>\n",
       "    </tr>\n",
       "    <tr>\n",
       "      <th>402</th>\n",
       "      <td>279</td>\n",
       "      <td>Kieta</td>\n",
       "      <td>-6.2167</td>\n",
       "      <td>155.6333</td>\n",
       "      <td>75.43</td>\n",
       "      <td>95</td>\n",
       "      <td>100</td>\n",
       "      <td>3.71</td>\n",
       "      <td>PG</td>\n",
       "      <td>3/26/22 9:37</td>\n",
       "    </tr>\n",
       "    <tr>\n",
       "      <th>403</th>\n",
       "      <td>50</td>\n",
       "      <td>Belmonte</td>\n",
       "      <td>-15.8631</td>\n",
       "      <td>-38.8828</td>\n",
       "      <td>75.74</td>\n",
       "      <td>81</td>\n",
       "      <td>65</td>\n",
       "      <td>0.13</td>\n",
       "      <td>BR</td>\n",
       "      <td>3/26/22 9:28</td>\n",
       "    </tr>\n",
       "    <tr>\n",
       "      <th>404</th>\n",
       "      <td>305</td>\n",
       "      <td>Carutapera</td>\n",
       "      <td>-1.1950</td>\n",
       "      <td>-46.0200</td>\n",
       "      <td>75.94</td>\n",
       "      <td>94</td>\n",
       "      <td>100</td>\n",
       "      <td>4.16</td>\n",
       "      <td>BR</td>\n",
       "      <td>3/26/22 9:38</td>\n",
       "    </tr>\n",
       "    <tr>\n",
       "      <th>405</th>\n",
       "      <td>524</td>\n",
       "      <td>Trairi</td>\n",
       "      <td>-3.2778</td>\n",
       "      <td>-39.2689</td>\n",
       "      <td>75.94</td>\n",
       "      <td>90</td>\n",
       "      <td>100</td>\n",
       "      <td>6.51</td>\n",
       "      <td>BR</td>\n",
       "      <td>3/26/22 9:46</td>\n",
       "    </tr>\n",
       "    <tr>\n",
       "      <th>406</th>\n",
       "      <td>494</td>\n",
       "      <td>Cairns</td>\n",
       "      <td>-16.9167</td>\n",
       "      <td>145.7667</td>\n",
       "      <td>76.06</td>\n",
       "      <td>90</td>\n",
       "      <td>40</td>\n",
       "      <td>5.75</td>\n",
       "      <td>AU</td>\n",
       "      <td>3/26/22 9:45</td>\n",
       "    </tr>\n",
       "  </tbody>\n",
       "</table>\n",
       "</div>"
      ],
      "text/plain": [
       "     City_ID               City      Lat       Lng  Max Temp  Humidity  \\\n",
       "397      411           Cururupu  -1.8283  -44.8683     75.06        97   \n",
       "398      230             Noumea -22.2763  166.4572     75.18        74   \n",
       "399      251            Iquitos  -3.7481  -73.2472     75.24        94   \n",
       "400      345  Sao Joao Da Barra -21.6403  -41.0511     75.29        89   \n",
       "401      105    Charters Towers -20.1000  146.2667     75.36        63   \n",
       "402      279              Kieta  -6.2167  155.6333     75.43        95   \n",
       "403       50           Belmonte -15.8631  -38.8828     75.74        81   \n",
       "404      305         Carutapera  -1.1950  -46.0200     75.94        94   \n",
       "405      524             Trairi  -3.2778  -39.2689     75.94        90   \n",
       "406      494             Cairns -16.9167  145.7667     76.06        90   \n",
       "\n",
       "     Cloudiness  Wind Speed Country          Date  \n",
       "397          95        2.80      BR  3/26/22 9:41  \n",
       "398          73       10.25      NC  3/26/22 9:35  \n",
       "399          75        6.91      PE  3/26/22 9:34  \n",
       "400          94       10.71      BR  3/26/22 9:39  \n",
       "401          89       14.07      AU  3/26/22 9:30  \n",
       "402         100        3.71      PG  3/26/22 9:37  \n",
       "403          65        0.13      BR  3/26/22 9:28  \n",
       "404         100        4.16      BR  3/26/22 9:38  \n",
       "405         100        6.51      BR  3/26/22 9:46  \n",
       "406          40        5.75      AU  3/26/22 9:45  "
      ]
     },
     "execution_count": 60,
     "metadata": {},
     "output_type": "execute_result"
    }
   ],
   "source": [
    "# Filter the dataset to find the cities that fit the criteria.\n",
    "preferred_cities_df = city_data_df.loc[(city_data_df[\"Max Temp\"] <= max_temp) & \\\n",
    "                                       (city_data_df[\"Max Temp\"] >= min_temp)]\n",
    "preferred_cities_df.head(10)"
   ]
  },
  {
   "cell_type": "code",
   "execution_count": 62,
   "id": "468dbd62",
   "metadata": {},
   "outputs": [
    {
     "data": {
      "text/plain": [
       "City_ID       153\n",
       "City          153\n",
       "Lat           153\n",
       "Lng           153\n",
       "Max Temp      153\n",
       "Humidity      153\n",
       "Cloudiness    153\n",
       "Wind Speed    153\n",
       "Country       150\n",
       "Date          153\n",
       "dtype: int64"
      ]
     },
     "execution_count": 62,
     "metadata": {},
     "output_type": "execute_result"
    }
   ],
   "source": [
    "preferred_cities_df.count()"
   ]
  },
  {
   "cell_type": "code",
   "execution_count": 64,
   "id": "8a494428",
   "metadata": {},
   "outputs": [
    {
     "data": {
      "text/plain": [
       "City_ID       153\n",
       "City          153\n",
       "Lat           153\n",
       "Lng           153\n",
       "Max Temp      153\n",
       "Humidity      153\n",
       "Cloudiness    153\n",
       "Wind Speed    153\n",
       "Country       150\n",
       "Date          153\n",
       "dtype: int64"
      ]
     },
     "execution_count": 64,
     "metadata": {},
     "output_type": "execute_result"
    }
   ],
   "source": [
    "preferred_cities_df.dropna()\n",
    "preferred_cities_df.count()"
   ]
  },
  {
   "cell_type": "code",
   "execution_count": 66,
   "id": "34ec455f",
   "metadata": {},
   "outputs": [
    {
     "data": {
      "text/html": [
       "<div>\n",
       "<style scoped>\n",
       "    .dataframe tbody tr th:only-of-type {\n",
       "        vertical-align: middle;\n",
       "    }\n",
       "\n",
       "    .dataframe tbody tr th {\n",
       "        vertical-align: top;\n",
       "    }\n",
       "\n",
       "    .dataframe thead th {\n",
       "        text-align: right;\n",
       "    }\n",
       "</style>\n",
       "<table border=\"1\" class=\"dataframe\">\n",
       "  <thead>\n",
       "    <tr style=\"text-align: right;\">\n",
       "      <th></th>\n",
       "      <th>City</th>\n",
       "      <th>Country</th>\n",
       "      <th>Max Temp</th>\n",
       "      <th>Lat</th>\n",
       "      <th>Lng</th>\n",
       "      <th>Hotel Name</th>\n",
       "    </tr>\n",
       "  </thead>\n",
       "  <tbody>\n",
       "    <tr>\n",
       "      <th>397</th>\n",
       "      <td>Cururupu</td>\n",
       "      <td>BR</td>\n",
       "      <td>75.06</td>\n",
       "      <td>-1.8283</td>\n",
       "      <td>-44.8683</td>\n",
       "      <td></td>\n",
       "    </tr>\n",
       "    <tr>\n",
       "      <th>398</th>\n",
       "      <td>Noumea</td>\n",
       "      <td>NC</td>\n",
       "      <td>75.18</td>\n",
       "      <td>-22.2763</td>\n",
       "      <td>166.4572</td>\n",
       "      <td></td>\n",
       "    </tr>\n",
       "    <tr>\n",
       "      <th>399</th>\n",
       "      <td>Iquitos</td>\n",
       "      <td>PE</td>\n",
       "      <td>75.24</td>\n",
       "      <td>-3.7481</td>\n",
       "      <td>-73.2472</td>\n",
       "      <td></td>\n",
       "    </tr>\n",
       "    <tr>\n",
       "      <th>400</th>\n",
       "      <td>Sao Joao Da Barra</td>\n",
       "      <td>BR</td>\n",
       "      <td>75.29</td>\n",
       "      <td>-21.6403</td>\n",
       "      <td>-41.0511</td>\n",
       "      <td></td>\n",
       "    </tr>\n",
       "    <tr>\n",
       "      <th>401</th>\n",
       "      <td>Charters Towers</td>\n",
       "      <td>AU</td>\n",
       "      <td>75.36</td>\n",
       "      <td>-20.1000</td>\n",
       "      <td>146.2667</td>\n",
       "      <td></td>\n",
       "    </tr>\n",
       "    <tr>\n",
       "      <th>402</th>\n",
       "      <td>Kieta</td>\n",
       "      <td>PG</td>\n",
       "      <td>75.43</td>\n",
       "      <td>-6.2167</td>\n",
       "      <td>155.6333</td>\n",
       "      <td></td>\n",
       "    </tr>\n",
       "    <tr>\n",
       "      <th>403</th>\n",
       "      <td>Belmonte</td>\n",
       "      <td>BR</td>\n",
       "      <td>75.74</td>\n",
       "      <td>-15.8631</td>\n",
       "      <td>-38.8828</td>\n",
       "      <td></td>\n",
       "    </tr>\n",
       "    <tr>\n",
       "      <th>404</th>\n",
       "      <td>Carutapera</td>\n",
       "      <td>BR</td>\n",
       "      <td>75.94</td>\n",
       "      <td>-1.1950</td>\n",
       "      <td>-46.0200</td>\n",
       "      <td></td>\n",
       "    </tr>\n",
       "    <tr>\n",
       "      <th>405</th>\n",
       "      <td>Trairi</td>\n",
       "      <td>BR</td>\n",
       "      <td>75.94</td>\n",
       "      <td>-3.2778</td>\n",
       "      <td>-39.2689</td>\n",
       "      <td></td>\n",
       "    </tr>\n",
       "    <tr>\n",
       "      <th>406</th>\n",
       "      <td>Cairns</td>\n",
       "      <td>AU</td>\n",
       "      <td>76.06</td>\n",
       "      <td>-16.9167</td>\n",
       "      <td>145.7667</td>\n",
       "      <td></td>\n",
       "    </tr>\n",
       "  </tbody>\n",
       "</table>\n",
       "</div>"
      ],
      "text/plain": [
       "                  City Country  Max Temp      Lat       Lng Hotel Name\n",
       "397           Cururupu      BR     75.06  -1.8283  -44.8683           \n",
       "398             Noumea      NC     75.18 -22.2763  166.4572           \n",
       "399            Iquitos      PE     75.24  -3.7481  -73.2472           \n",
       "400  Sao Joao Da Barra      BR     75.29 -21.6403  -41.0511           \n",
       "401    Charters Towers      AU     75.36 -20.1000  146.2667           \n",
       "402              Kieta      PG     75.43  -6.2167  155.6333           \n",
       "403           Belmonte      BR     75.74 -15.8631  -38.8828           \n",
       "404         Carutapera      BR     75.94  -1.1950  -46.0200           \n",
       "405             Trairi      BR     75.94  -3.2778  -39.2689           \n",
       "406             Cairns      AU     76.06 -16.9167  145.7667           "
      ]
     },
     "execution_count": 66,
     "metadata": {},
     "output_type": "execute_result"
    }
   ],
   "source": [
    "# Create DataFrame called hotel_df to store hotel names along with city, country, max temp, and coordinates.\n",
    "hotel_df = preferred_cities_df[[\"City\", \"Country\", \"Max Temp\", \"Lat\", \"Lng\"]].copy()\n",
    "hotel_df[\"Hotel Name\"] = \"\"\n",
    "hotel_df.head(10)"
   ]
  },
  {
   "cell_type": "code",
   "execution_count": 71,
   "id": "78b21f94",
   "metadata": {},
   "outputs": [],
   "source": [
    "# Set parameters to search for a hotel.\n",
    "params = {\n",
    "    \"radius\": 5000,\n",
    "    \"type\": \"lodging\",\n",
    "    \"key\": g_key\n",
    "}"
   ]
  },
  {
   "cell_type": "code",
   "execution_count": 80,
   "id": "88d50734",
   "metadata": {},
   "outputs": [
    {
     "data": {
      "text/html": [
       "<div>\n",
       "<style scoped>\n",
       "    .dataframe tbody tr th:only-of-type {\n",
       "        vertical-align: middle;\n",
       "    }\n",
       "\n",
       "    .dataframe tbody tr th {\n",
       "        vertical-align: top;\n",
       "    }\n",
       "\n",
       "    .dataframe thead th {\n",
       "        text-align: right;\n",
       "    }\n",
       "</style>\n",
       "<table border=\"1\" class=\"dataframe\">\n",
       "  <thead>\n",
       "    <tr style=\"text-align: right;\">\n",
       "      <th></th>\n",
       "      <th>City</th>\n",
       "      <th>Country</th>\n",
       "      <th>Max Temp</th>\n",
       "      <th>Lat</th>\n",
       "      <th>Lng</th>\n",
       "      <th>Hotel Name</th>\n",
       "    </tr>\n",
       "  </thead>\n",
       "  <tbody>\n",
       "    <tr>\n",
       "      <th>397</th>\n",
       "      <td>Cururupu</td>\n",
       "      <td>BR</td>\n",
       "      <td>75.06</td>\n",
       "      <td>-1.8283</td>\n",
       "      <td>-44.8683</td>\n",
       "      <td>POUSADA TRAVÉS'CIA</td>\n",
       "    </tr>\n",
       "    <tr>\n",
       "      <th>398</th>\n",
       "      <td>Noumea</td>\n",
       "      <td>NC</td>\n",
       "      <td>75.18</td>\n",
       "      <td>-22.2763</td>\n",
       "      <td>166.4572</td>\n",
       "      <td>Hôtel Le Lagon</td>\n",
       "    </tr>\n",
       "    <tr>\n",
       "      <th>399</th>\n",
       "      <td>Iquitos</td>\n",
       "      <td>PE</td>\n",
       "      <td>75.24</td>\n",
       "      <td>-3.7481</td>\n",
       "      <td>-73.2472</td>\n",
       "      <td>Cortez Malaga Techy Caroly</td>\n",
       "    </tr>\n",
       "    <tr>\n",
       "      <th>400</th>\n",
       "      <td>Sao Joao Da Barra</td>\n",
       "      <td>BR</td>\n",
       "      <td>75.29</td>\n",
       "      <td>-21.6403</td>\n",
       "      <td>-41.0511</td>\n",
       "      <td>Pousada Porto De Canoas</td>\n",
       "    </tr>\n",
       "    <tr>\n",
       "      <th>401</th>\n",
       "      <td>Charters Towers</td>\n",
       "      <td>AU</td>\n",
       "      <td>75.36</td>\n",
       "      <td>-20.1000</td>\n",
       "      <td>146.2667</td>\n",
       "      <td>Cattleman's Rest Motor Inn</td>\n",
       "    </tr>\n",
       "  </tbody>\n",
       "</table>\n",
       "</div>"
      ],
      "text/plain": [
       "                  City Country  Max Temp      Lat       Lng  \\\n",
       "397           Cururupu      BR     75.06  -1.8283  -44.8683   \n",
       "398             Noumea      NC     75.18 -22.2763  166.4572   \n",
       "399            Iquitos      PE     75.24  -3.7481  -73.2472   \n",
       "400  Sao Joao Da Barra      BR     75.29 -21.6403  -41.0511   \n",
       "401    Charters Towers      AU     75.36 -20.1000  146.2667   \n",
       "\n",
       "                     Hotel Name  \n",
       "397          POUSADA TRAVÉS'CIA  \n",
       "398              Hôtel Le Lagon  \n",
       "399  Cortez Malaga Techy Caroly  \n",
       "400     Pousada Porto De Canoas  \n",
       "401  Cattleman's Rest Motor Inn  "
      ]
     },
     "execution_count": 80,
     "metadata": {},
     "output_type": "execute_result"
    }
   ],
   "source": [
    "# Iterate through the DataFrame.\n",
    "for index, row in hotel_df.iterrows():\n",
    "    # Get the latitude and longitude.\n",
    "    lat = row[\"Lat\"]\n",
    "    lng = row[\"Lng\"]\n",
    "\n",
    "    # Add the latitude and longitude to location key for the params dictionary.\n",
    "    params[\"location\"] = f\"{lat},{lng}\"\n",
    "\n",
    "    # Use the search term: \"lodging\" and our latitude and longitude.\n",
    "    base_url = \"https://maps.googleapis.com/maps/api/place/nearbysearch/json\"\n",
    "    # Make request and get the JSON data from the search.\n",
    "    hotels = requests.get(base_url, params=params).json()\n",
    "    # Grab the first hotel from the results and store the name.\n",
    "    #hotel_df.loc[index, \"Hotel Name\"] = hotels[\"results\"][0][\"name\"]\n",
    "    \n",
    "    \n",
    "    # Grab the first hotel from the results and store the name.\n",
    "try:\n",
    "    hotel_df.loc[index, \"Hotel Name\"] = hotels[\"results\"][0][\"name\"]\n",
    "except (IndexError):\n",
    "    print(\"Hotel not found... skipping.\")\n",
    "hotel_df.head()"
   ]
  },
  {
   "cell_type": "code",
   "execution_count": 81,
   "id": "0938d106",
   "metadata": {
    "scrolled": true
   },
   "outputs": [
    {
     "data": {
      "text/html": [
       "<div>\n",
       "<style scoped>\n",
       "    .dataframe tbody tr th:only-of-type {\n",
       "        vertical-align: middle;\n",
       "    }\n",
       "\n",
       "    .dataframe tbody tr th {\n",
       "        vertical-align: top;\n",
       "    }\n",
       "\n",
       "    .dataframe thead th {\n",
       "        text-align: right;\n",
       "    }\n",
       "</style>\n",
       "<table border=\"1\" class=\"dataframe\">\n",
       "  <thead>\n",
       "    <tr style=\"text-align: right;\">\n",
       "      <th></th>\n",
       "      <th>City</th>\n",
       "      <th>Country</th>\n",
       "      <th>Max Temp</th>\n",
       "      <th>Lat</th>\n",
       "      <th>Lng</th>\n",
       "      <th>Hotel Name</th>\n",
       "    </tr>\n",
       "  </thead>\n",
       "  <tbody>\n",
       "    <tr>\n",
       "      <th>397</th>\n",
       "      <td>Cururupu</td>\n",
       "      <td>BR</td>\n",
       "      <td>75.06</td>\n",
       "      <td>-1.8283</td>\n",
       "      <td>-44.8683</td>\n",
       "      <td>POUSADA TRAVÉS'CIA</td>\n",
       "    </tr>\n",
       "    <tr>\n",
       "      <th>398</th>\n",
       "      <td>Noumea</td>\n",
       "      <td>NC</td>\n",
       "      <td>75.18</td>\n",
       "      <td>-22.2763</td>\n",
       "      <td>166.4572</td>\n",
       "      <td>Hôtel Le Lagon</td>\n",
       "    </tr>\n",
       "    <tr>\n",
       "      <th>399</th>\n",
       "      <td>Iquitos</td>\n",
       "      <td>PE</td>\n",
       "      <td>75.24</td>\n",
       "      <td>-3.7481</td>\n",
       "      <td>-73.2472</td>\n",
       "      <td>Cortez Malaga Techy Caroly</td>\n",
       "    </tr>\n",
       "    <tr>\n",
       "      <th>400</th>\n",
       "      <td>Sao Joao Da Barra</td>\n",
       "      <td>BR</td>\n",
       "      <td>75.29</td>\n",
       "      <td>-21.6403</td>\n",
       "      <td>-41.0511</td>\n",
       "      <td>Pousada Porto De Canoas</td>\n",
       "    </tr>\n",
       "    <tr>\n",
       "      <th>401</th>\n",
       "      <td>Charters Towers</td>\n",
       "      <td>AU</td>\n",
       "      <td>75.36</td>\n",
       "      <td>-20.1000</td>\n",
       "      <td>146.2667</td>\n",
       "      <td>Cattleman's Rest Motor Inn</td>\n",
       "    </tr>\n",
       "  </tbody>\n",
       "</table>\n",
       "</div>"
      ],
      "text/plain": [
       "                  City Country  Max Temp      Lat       Lng  \\\n",
       "397           Cururupu      BR     75.06  -1.8283  -44.8683   \n",
       "398             Noumea      NC     75.18 -22.2763  166.4572   \n",
       "399            Iquitos      PE     75.24  -3.7481  -73.2472   \n",
       "400  Sao Joao Da Barra      BR     75.29 -21.6403  -41.0511   \n",
       "401    Charters Towers      AU     75.36 -20.1000  146.2667   \n",
       "\n",
       "                     Hotel Name  \n",
       "397          POUSADA TRAVÉS'CIA  \n",
       "398              Hôtel Le Lagon  \n",
       "399  Cortez Malaga Techy Caroly  \n",
       "400     Pousada Porto De Canoas  \n",
       "401  Cattleman's Rest Motor Inn  "
      ]
     },
     "execution_count": 81,
     "metadata": {},
     "output_type": "execute_result"
    }
   ],
   "source": [
    "hotel_df.head()"
   ]
  },
  {
   "cell_type": "code",
   "execution_count": 91,
   "id": "7ed347ec",
   "metadata": {},
   "outputs": [
    {
     "data": {
      "application/vnd.jupyter.widget-view+json": {
       "model_id": "909ce00cd4454640b855b9dd7e78f45c",
       "version_major": 2,
       "version_minor": 0
      },
      "text/plain": [
       "Figure(layout=FigureLayout(height='420px'))"
      ]
     },
     "metadata": {},
     "output_type": "display_data"
    }
   ],
   "source": [
    "# Add a heatmap of temperature for the vacation spots.\n",
    "locations = hotel_df[[\"Lat\", \"Lng\"]]\n",
    "max_temp = hotel_df[\"Max Temp\"]\n",
    "fig = gmaps.figure(center=(30.0, 31.0), zoom_level=1.5)\n",
    "heat_layer = gmaps.heatmap_layer(locations, weights=max_temp, dissipating=False,\n",
    "             max_intensity=300, point_radius=4)\n",
    "\n",
    "fig.add_layer(heat_layer)\n",
    "# Call the figure to plot the data.\n",
    "fig\n"
   ]
  },
  {
   "cell_type": "code",
   "execution_count": 92,
   "id": "a509c40f",
   "metadata": {},
   "outputs": [
    {
     "data": {
      "application/vnd.jupyter.widget-view+json": {
       "model_id": "92a64cb348154975923af9811b735f9c",
       "version_major": 2,
       "version_minor": 0
      },
      "text/plain": [
       "Figure(layout=FigureLayout(height='420px'))"
      ]
     },
     "metadata": {},
     "output_type": "display_data"
    }
   ],
   "source": [
    "# Add a heatmap of temperature for the vacation spots and marker for each city.\n",
    "locations = hotel_df[[\"Lat\", \"Lng\"]]\n",
    "max_temp = hotel_df[\"Max Temp\"]\n",
    "fig = gmaps.figure(center=(30.0, 31.0), zoom_level=1.5)\n",
    "heat_layer = gmaps.heatmap_layer(locations, weights=max_temp,\n",
    "             dissipating=False, max_intensity=300, point_radius=4)\n",
    "marker_layer = gmaps.marker_layer(locations)\n",
    "fig.add_layer(heat_layer)\n",
    "fig.add_layer(marker_layer)\n",
    "# Call the figure to plot the data.\n",
    "fig\n",
    "# info_box_template = \"\"\"\n",
    "# <dl>\n",
    "# <dt>Hotel Name</dt><dd>{Hotel Name}</dd>\n",
    "# <dt>City</dt><dd>{City}</dd>\n",
    "# <dt>Country</dt><dd>{Country}</dd>\n",
    "# <dt>Max Temp</dt><dd>{Max Temp} °F</dd>\n",
    "# </dl>\n",
    "# \"\"\""
   ]
  },
  {
   "cell_type": "code",
   "execution_count": 93,
   "id": "7422f27e",
   "metadata": {},
   "outputs": [],
   "source": [
    "info_box_template = \"\"\"\n",
    "<dl>\n",
    "<dt>Hotel Name</dt><dd>{Hotel Name}</dd>\n",
    "<dt>City</dt><dd>{City}</dd>\n",
    "<dt>Country</dt><dd>{Country}</dd>\n",
    "<dt>Max Temp</dt><dd>{Max Temp} °F</dd>\n",
    "</dl>\n",
    "\"\"\""
   ]
  },
  {
   "cell_type": "code",
   "execution_count": 95,
   "id": "85cc6442",
   "metadata": {},
   "outputs": [
    {
     "data": {
      "text/plain": [
       "[\"\\n<dl>\\n<dt>Hotel Name</dt><dd>POUSADA TRAVÉS'CIA</dd>\\n<dt>City</dt><dd>Cururupu</dd>\\n<dt>Country</dt><dd>BR</dd>\\n<dt>Max Temp</dt><dd>75.06 °F</dd>\\n</dl>\\n\",\n",
       " '\\n<dl>\\n<dt>Hotel Name</dt><dd>Hôtel Le Lagon</dd>\\n<dt>City</dt><dd>Noumea</dd>\\n<dt>Country</dt><dd>NC</dd>\\n<dt>Max Temp</dt><dd>75.18 °F</dd>\\n</dl>\\n',\n",
       " '\\n<dl>\\n<dt>Hotel Name</dt><dd>Cortez Malaga Techy Caroly</dd>\\n<dt>City</dt><dd>Iquitos</dd>\\n<dt>Country</dt><dd>PE</dd>\\n<dt>Max Temp</dt><dd>75.24 °F</dd>\\n</dl>\\n',\n",
       " '\\n<dl>\\n<dt>Hotel Name</dt><dd>Pousada Porto De Canoas</dd>\\n<dt>City</dt><dd>Sao Joao Da Barra</dd>\\n<dt>Country</dt><dd>BR</dd>\\n<dt>Max Temp</dt><dd>75.29 °F</dd>\\n</dl>\\n',\n",
       " \"\\n<dl>\\n<dt>Hotel Name</dt><dd>Cattleman's Rest Motor Inn</dd>\\n<dt>City</dt><dd>Charters Towers</dd>\\n<dt>Country</dt><dd>AU</dd>\\n<dt>Max Temp</dt><dd>75.36 °F</dd>\\n</dl>\\n\",\n",
       " '\\n<dl>\\n<dt>Hotel Name</dt><dd>Uruna Bay Retreat</dd>\\n<dt>City</dt><dd>Kieta</dd>\\n<dt>Country</dt><dd>PG</dd>\\n<dt>Max Temp</dt><dd>75.43 °F</dd>\\n</dl>\\n',\n",
       " '\\n<dl>\\n<dt>Hotel Name</dt><dd>Pousada Monte Carmelo O Pão</dd>\\n<dt>City</dt><dd>Belmonte</dd>\\n<dt>Country</dt><dd>BR</dd>\\n<dt>Max Temp</dt><dd>75.74 °F</dd>\\n</dl>\\n',\n",
       " '\\n<dl>\\n<dt>Hotel Name</dt><dd>Lidera</dd>\\n<dt>City</dt><dd>Carutapera</dd>\\n<dt>Country</dt><dd>BR</dd>\\n<dt>Max Temp</dt><dd>75.94 °F</dd>\\n</dl>\\n',\n",
       " '\\n<dl>\\n<dt>Hotel Name</dt><dd>janelas do mar</dd>\\n<dt>City</dt><dd>Trairi</dd>\\n<dt>Country</dt><dd>BR</dd>\\n<dt>Max Temp</dt><dd>75.94 °F</dd>\\n</dl>\\n',\n",
       " '\\n<dl>\\n<dt>Hotel Name</dt><dd>Mantra Trilogy Cairns</dd>\\n<dt>City</dt><dd>Cairns</dd>\\n<dt>Country</dt><dd>AU</dd>\\n<dt>Max Temp</dt><dd>76.06 °F</dd>\\n</dl>\\n',\n",
       " '\\n<dl>\\n<dt>Hotel Name</dt><dd>INN CORNER RIVER - PRADO - BAHIA - HOUSING AND HOTEL</dd>\\n<dt>City</dt><dd>Prado</dd>\\n<dt>Country</dt><dd>BR</dd>\\n<dt>Max Temp</dt><dd>76.23 °F</dd>\\n</dl>\\n',\n",
       " '\\n<dl>\\n<dt>Hotel Name</dt><dd>Parkir Mobil Wisata CAS Water Park</dd>\\n<dt>City</dt><dd>Karaton</dd>\\n<dt>Country</dt><dd>ID</dd>\\n<dt>Max Temp</dt><dd>76.46 °F</dd>\\n</dl>\\n',\n",
       " '\\n<dl>\\n<dt>Hotel Name</dt><dd>Daito Guest House</dd>\\n<dt>City</dt><dd>Kokoda</dd>\\n<dt>Country</dt><dd>PG</dd>\\n<dt>Max Temp</dt><dd>76.5 °F</dd>\\n</dl>\\n',\n",
       " '\\n<dl>\\n<dt>Hotel Name</dt><dd>Maringe Lagoon Lodge</dd>\\n<dt>City</dt><dd>Buala</dd>\\n<dt>Country</dt><dd>SB</dd>\\n<dt>Max Temp</dt><dd>76.6 °F</dd>\\n</dl>\\n',\n",
       " '\\n<dl>\\n<dt>Hotel Name</dt><dd>Whispering Bamboo Cove Resort</dd>\\n<dt>City</dt><dd>Morant Bay</dd>\\n<dt>Country</dt><dd>JM</dd>\\n<dt>Max Temp</dt><dd>76.62 °F</dd>\\n</dl>\\n',\n",
       " '\\n<dl>\\n<dt>Hotel Name</dt><dd>Noble Luminous Accommodation</dd>\\n<dt>City</dt><dd>Rehoboth</dd>\\n<dt>Country</dt><dd>nan</dd>\\n<dt>Max Temp</dt><dd>76.64 °F</dd>\\n</dl>\\n',\n",
       " '\\n<dl>\\n<dt>Hotel Name</dt><dd>Montelíbano Plaza Hotel</dd>\\n<dt>City</dt><dd>Montelibano</dd>\\n<dt>Country</dt><dd>CO</dd>\\n<dt>Max Temp</dt><dd>76.78 °F</dd>\\n</dl>\\n',\n",
       " '\\n<dl>\\n<dt>Hotel Name</dt><dd>Pousada Porto Praia</dd>\\n<dt>City</dt><dd>Arraial Do Cabo</dd>\\n<dt>Country</dt><dd>BR</dd>\\n<dt>Max Temp</dt><dd>76.86 °F</dd>\\n</dl>\\n',\n",
       " '\\n<dl>\\n<dt>Hotel Name</dt><dd>CeBlue Villas & Beach Resort</dd>\\n<dt>City</dt><dd>The Valley</dd>\\n<dt>Country</dt><dd>AI</dd>\\n<dt>Max Temp</dt><dd>76.86 °F</dd>\\n</dl>\\n',\n",
       " '\\n<dl>\\n<dt>Hotel Name</dt><dd>Taloa Heights</dd>\\n<dt>City</dt><dd>Alofi</dd>\\n<dt>Country</dt><dd>NU</dd>\\n<dt>Max Temp</dt><dd>76.89 °F</dd>\\n</dl>\\n',\n",
       " '\\n<dl>\\n<dt>Hotel Name</dt><dd>Sea Lounge! Bar, Club & Restaurant</dd>\\n<dt>City</dt><dd>Itarema</dd>\\n<dt>Country</dt><dd>BR</dd>\\n<dt>Max Temp</dt><dd>76.91 °F</dd>\\n</dl>\\n',\n",
       " '\\n<dl>\\n<dt>Hotel Name</dt><dd>Finch Bay Galapagos Hotel</dd>\\n<dt>City</dt><dd>Puerto Ayora</dd>\\n<dt>Country</dt><dd>EC</dd>\\n<dt>Max Temp</dt><dd>76.93 °F</dd>\\n</dl>\\n',\n",
       " '\\n<dl>\\n<dt>Hotel Name</dt><dd>Melrose Place Guestrooms</dd>\\n<dt>City</dt><dd>Potchefstroom</dd>\\n<dt>Country</dt><dd>ZA</dd>\\n<dt>Max Temp</dt><dd>76.93 °F</dd>\\n</dl>\\n',\n",
       " '\\n<dl>\\n<dt>Hotel Name</dt><dd>Hotel Vitória Palace</dd>\\n<dt>City</dt><dd>Vila Velha</dd>\\n<dt>Country</dt><dd>BR</dd>\\n<dt>Max Temp</dt><dd>76.95 °F</dd>\\n</dl>\\n',\n",
       " '\\n<dl>\\n<dt>Hotel Name</dt><dd>Oceano</dd>\\n<dt>City</dt><dd>Inhambane</dd>\\n<dt>Country</dt><dd>MZ</dd>\\n<dt>Max Temp</dt><dd>76.98 °F</dd>\\n</dl>\\n',\n",
       " '\\n<dl>\\n<dt>Hotel Name</dt><dd>Blue Bay Lodge</dd>\\n<dt>City</dt><dd>Saldanha</dd>\\n<dt>Country</dt><dd>ZA</dd>\\n<dt>Max Temp</dt><dd>77.05 °F</dd>\\n</dl>\\n',\n",
       " '\\n<dl>\\n<dt>Hotel Name</dt><dd>ALETHEIA Appartement Sinnamary</dd>\\n<dt>City</dt><dd>Sinnamary</dd>\\n<dt>Country</dt><dd>GF</dd>\\n<dt>Max Temp</dt><dd>77.05 °F</dd>\\n</dl>\\n',\n",
       " '\\n<dl>\\n<dt>Hotel Name</dt><dd>Radisson Blu Hotel Waterfront, Cape Town</dd>\\n<dt>City</dt><dd>Cape Town</dd>\\n<dt>Country</dt><dd>ZA</dd>\\n<dt>Max Temp</dt><dd>77.11 °F</dd>\\n</dl>\\n',\n",
       " '\\n<dl>\\n<dt>Hotel Name</dt><dd>املاك خالد الشعشوع</dd>\\n<dt>City</dt><dd>Faya</dd>\\n<dt>Country</dt><dd>SA</dd>\\n<dt>Max Temp</dt><dd>77.11 °F</dd>\\n</dl>\\n',\n",
       " '\\n<dl>\\n<dt>Hotel Name</dt><dd>Sand Diamond Hotel</dd>\\n<dt>City</dt><dd>Colon</dd>\\n<dt>Country</dt><dd>PA</dd>\\n<dt>Max Temp</dt><dd>77.11 °F</dd>\\n</dl>\\n',\n",
       " '\\n<dl>\\n<dt>Hotel Name</dt><dd>Heritage Park Hotel</dd>\\n<dt>City</dt><dd>Honiara</dd>\\n<dt>Country</dt><dd>SB</dd>\\n<dt>Max Temp</dt><dd>77.18 °F</dd>\\n</dl>\\n',\n",
       " '\\n<dl>\\n<dt>Hotel Name</dt><dd>Saiananda Eco-Hotel</dd>\\n<dt>City</dt><dd>Bahia De Caraquez</dd>\\n<dt>Country</dt><dd>EC</dd>\\n<dt>Max Temp</dt><dd>77.18 °F</dd>\\n</dl>\\n',\n",
       " '\\n<dl>\\n<dt>Hotel Name</dt><dd>Imagination Island</dd>\\n<dt>City</dt><dd>Gizo</dd>\\n<dt>Country</dt><dd>SB</dd>\\n<dt>Max Temp</dt><dd>77.45 °F</dd>\\n</dl>\\n',\n",
       " '\\n<dl>\\n<dt>Hotel Name</dt><dd>Atlantis Hotel</dd>\\n<dt>City</dt><dd>Bathsheba</dd>\\n<dt>Country</dt><dd>BB</dd>\\n<dt>Max Temp</dt><dd>77.61 °F</dd>\\n</dl>\\n',\n",
       " '\\n<dl>\\n<dt>Hotel Name</dt><dd>Auki Motel</dd>\\n<dt>City</dt><dd>Auki</dd>\\n<dt>Country</dt><dd>SB</dd>\\n<dt>Max Temp</dt><dd>77.67 °F</dd>\\n</dl>\\n',\n",
       " '\\n<dl>\\n<dt>Hotel Name</dt><dd>Salinas do Maragogi All Inclusive Resort</dd>\\n<dt>City</dt><dd>Maragogi</dd>\\n<dt>Country</dt><dd>BR</dd>\\n<dt>Max Temp</dt><dd>77.67 °F</dd>\\n</dl>\\n',\n",
       " '\\n<dl>\\n<dt>Hotel Name</dt><dd>Osprey Beach Hotel</dd>\\n<dt>City</dt><dd>Cockburn Town</dd>\\n<dt>Country</dt><dd>TC</dd>\\n<dt>Max Temp</dt><dd>77.72 °F</dd>\\n</dl>\\n',\n",
       " '\\n<dl>\\n<dt>Hotel Name</dt><dd>Sangho Privilege Tataouine</dd>\\n<dt>City</dt><dd>Tatawin</dd>\\n<dt>Country</dt><dd>TN</dd>\\n<dt>Max Temp</dt><dd>77.95 °F</dd>\\n</dl>\\n',\n",
       " '\\n<dl>\\n<dt>Hotel Name</dt><dd>Leonardo Family Beach House 1</dd>\\n<dt>City</dt><dd>Pundaguitan</dd>\\n<dt>Country</dt><dd>PH</dd>\\n<dt>Max Temp</dt><dd>78.42 °F</dd>\\n</dl>\\n',\n",
       " '\\n<dl>\\n<dt>Hotel Name</dt><dd>Country Lodge Solwezi</dd>\\n<dt>City</dt><dd>Solwezi</dd>\\n<dt>Country</dt><dd>ZM</dd>\\n<dt>Max Temp</dt><dd>78.55 °F</dd>\\n</dl>\\n',\n",
       " '\\n<dl>\\n<dt>Hotel Name</dt><dd>Kalebalika Cottages</dd>\\n<dt>City</dt><dd>Kasama</dd>\\n<dt>Country</dt><dd>ZM</dd>\\n<dt>Max Temp</dt><dd>78.58 °F</dd>\\n</dl>\\n',\n",
       " '\\n<dl>\\n<dt>Hotel Name</dt><dd>Mercure Hotel Mildura</dd>\\n<dt>City</dt><dd>Mildura</dd>\\n<dt>Country</dt><dd>AU</dd>\\n<dt>Max Temp</dt><dd>78.76 °F</dd>\\n</dl>\\n',\n",
       " '\\n<dl>\\n<dt>Hotel Name</dt><dd>Le Rocher de Tahiti</dd>\\n<dt>City</dt><dd>Tiarei</dd>\\n<dt>Country</dt><dd>PF</dd>\\n<dt>Max Temp</dt><dd>78.82 °F</dd>\\n</dl>\\n',\n",
       " '\\n<dl>\\n<dt>Hotel Name</dt><dd>Maqna Hotel by Prasanthi</dd>\\n<dt>City</dt><dd>Gorontalo</dd>\\n<dt>Country</dt><dd>ID</dd>\\n<dt>Max Temp</dt><dd>78.84 °F</dd>\\n</dl>\\n',\n",
       " '\\n<dl>\\n<dt>Hotel Name</dt><dd>Paradise Inn</dd>\\n<dt>City</dt><dd>Avarua</dd>\\n<dt>Country</dt><dd>CK</dd>\\n<dt>Max Temp</dt><dd>78.85 °F</dd>\\n</dl>\\n',\n",
       " '\\n<dl>\\n<dt>Hotel Name</dt><dd>Villa Enata</dd>\\n<dt>City</dt><dd>Atuona</dd>\\n<dt>Country</dt><dd>PF</dd>\\n<dt>Max Temp</dt><dd>78.93 °F</dd>\\n</dl>\\n',\n",
       " '\\n<dl>\\n<dt>Hotel Name</dt><dd>Auto Hotel El Soñador</dd>\\n<dt>City</dt><dd>Ocos</dd>\\n<dt>Country</dt><dd>GT</dd>\\n<dt>Max Temp</dt><dd>78.98 °F</dd>\\n</dl>\\n',\n",
       " '\\n<dl>\\n<dt>Hotel Name</dt><dd>BON Hotel Waterfront Richards Bay</dd>\\n<dt>City</dt><dd>Richards Bay</dd>\\n<dt>Country</dt><dd>ZA</dd>\\n<dt>Max Temp</dt><dd>79.12 °F</dd>\\n</dl>\\n',\n",
       " '\\n<dl>\\n<dt>Hotel Name</dt><dd>People ThankYou</dd>\\n<dt>City</dt><dd>Rikitea</dd>\\n<dt>Country</dt><dd>PF</dd>\\n<dt>Max Temp</dt><dd>79.16 °F</dd>\\n</dl>\\n',\n",
       " '\\n<dl>\\n<dt>Hotel Name</dt><dd>Broadwater Mariner Resort</dd>\\n<dt>City</dt><dd>Geraldton</dd>\\n<dt>Country</dt><dd>AU</dd>\\n<dt>Max Temp</dt><dd>79.21 °F</dd>\\n</dl>\\n',\n",
       " '\\n<dl>\\n<dt>Hotel Name</dt><dd></dd>\\n<dt>City</dt><dd>Katete</dd>\\n<dt>Country</dt><dd>UG</dd>\\n<dt>Max Temp</dt><dd>79.68 °F</dd>\\n</dl>\\n',\n",
       " '\\n<dl>\\n<dt>Hotel Name</dt><dd></dd>\\n<dt>City</dt><dd>Fayaoue</dd>\\n<dt>Country</dt><dd>NC</dd>\\n<dt>Max Temp</dt><dd>79.72 °F</dd>\\n</dl>\\n',\n",
       " '\\n<dl>\\n<dt>Hotel Name</dt><dd></dd>\\n<dt>City</dt><dd>Vanimo</dd>\\n<dt>Country</dt><dd>PG</dd>\\n<dt>Max Temp</dt><dd>79.86 °F</dd>\\n</dl>\\n',\n",
       " '\\n<dl>\\n<dt>Hotel Name</dt><dd></dd>\\n<dt>City</dt><dd>Touros</dd>\\n<dt>Country</dt><dd>BR</dd>\\n<dt>Max Temp</dt><dd>79.97 °F</dd>\\n</dl>\\n',\n",
       " '\\n<dl>\\n<dt>Hotel Name</dt><dd></dd>\\n<dt>City</dt><dd>Boyolangu</dd>\\n<dt>Country</dt><dd>ID</dd>\\n<dt>Max Temp</dt><dd>80.02 °F</dd>\\n</dl>\\n',\n",
       " '\\n<dl>\\n<dt>Hotel Name</dt><dd></dd>\\n<dt>City</dt><dd>Piacabucu</dd>\\n<dt>Country</dt><dd>BR</dd>\\n<dt>Max Temp</dt><dd>80.02 °F</dd>\\n</dl>\\n',\n",
       " '\\n<dl>\\n<dt>Hotel Name</dt><dd></dd>\\n<dt>City</dt><dd>Cayenne</dd>\\n<dt>Country</dt><dd>GF</dd>\\n<dt>Max Temp</dt><dd>80.1 °F</dd>\\n</dl>\\n',\n",
       " '\\n<dl>\\n<dt>Hotel Name</dt><dd></dd>\\n<dt>City</dt><dd>Asmar</dd>\\n<dt>Country</dt><dd>AF</dd>\\n<dt>Max Temp</dt><dd>80.1 °F</dd>\\n</dl>\\n',\n",
       " '\\n<dl>\\n<dt>Hotel Name</dt><dd></dd>\\n<dt>City</dt><dd>Umm Lajj</dd>\\n<dt>Country</dt><dd>SA</dd>\\n<dt>Max Temp</dt><dd>80.11 °F</dd>\\n</dl>\\n',\n",
       " '\\n<dl>\\n<dt>Hotel Name</dt><dd></dd>\\n<dt>City</dt><dd>Bima</dd>\\n<dt>Country</dt><dd>ID</dd>\\n<dt>Max Temp</dt><dd>80.19 °F</dd>\\n</dl>\\n',\n",
       " '\\n<dl>\\n<dt>Hotel Name</dt><dd></dd>\\n<dt>City</dt><dd>Lakatoro</dd>\\n<dt>Country</dt><dd>VU</dd>\\n<dt>Max Temp</dt><dd>80.22 °F</dd>\\n</dl>\\n',\n",
       " '\\n<dl>\\n<dt>Hotel Name</dt><dd></dd>\\n<dt>City</dt><dd>Kirakira</dd>\\n<dt>Country</dt><dd>SB</dd>\\n<dt>Max Temp</dt><dd>80.47 °F</dd>\\n</dl>\\n',\n",
       " '\\n<dl>\\n<dt>Hotel Name</dt><dd></dd>\\n<dt>City</dt><dd>Aranos</dd>\\n<dt>Country</dt><dd>nan</dd>\\n<dt>Max Temp</dt><dd>80.53 °F</dd>\\n</dl>\\n',\n",
       " '\\n<dl>\\n<dt>Hotel Name</dt><dd></dd>\\n<dt>City</dt><dd>Mackay</dd>\\n<dt>Country</dt><dd>AU</dd>\\n<dt>Max Temp</dt><dd>80.58 °F</dd>\\n</dl>\\n',\n",
       " '\\n<dl>\\n<dt>Hotel Name</dt><dd></dd>\\n<dt>City</dt><dd>Poum</dd>\\n<dt>Country</dt><dd>NC</dd>\\n<dt>Max Temp</dt><dd>80.65 °F</dd>\\n</dl>\\n',\n",
       " '\\n<dl>\\n<dt>Hotel Name</dt><dd></dd>\\n<dt>City</dt><dd>Licheng</dd>\\n<dt>Country</dt><dd>CN</dd>\\n<dt>Max Temp</dt><dd>80.76 °F</dd>\\n</dl>\\n',\n",
       " '\\n<dl>\\n<dt>Hotel Name</dt><dd></dd>\\n<dt>City</dt><dd>Manokwari</dd>\\n<dt>Country</dt><dd>ID</dd>\\n<dt>Max Temp</dt><dd>80.85 °F</dd>\\n</dl>\\n',\n",
       " '\\n<dl>\\n<dt>Hotel Name</dt><dd></dd>\\n<dt>City</dt><dd>Aitape</dd>\\n<dt>Country</dt><dd>PG</dd>\\n<dt>Max Temp</dt><dd>80.89 °F</dd>\\n</dl>\\n',\n",
       " '\\n<dl>\\n<dt>Hotel Name</dt><dd></dd>\\n<dt>City</dt><dd>Pandan</dd>\\n<dt>Country</dt><dd>PH</dd>\\n<dt>Max Temp</dt><dd>80.96 °F</dd>\\n</dl>\\n',\n",
       " '\\n<dl>\\n<dt>Hotel Name</dt><dd></dd>\\n<dt>City</dt><dd>Pasni</dd>\\n<dt>Country</dt><dd>PK</dd>\\n<dt>Max Temp</dt><dd>81.01 °F</dd>\\n</dl>\\n',\n",
       " '\\n<dl>\\n<dt>Hotel Name</dt><dd></dd>\\n<dt>City</dt><dd>Tautira</dd>\\n<dt>Country</dt><dd>PF</dd>\\n<dt>Max Temp</dt><dd>81.07 °F</dd>\\n</dl>\\n',\n",
       " '\\n<dl>\\n<dt>Hotel Name</dt><dd></dd>\\n<dt>City</dt><dd>Butaritari</dd>\\n<dt>Country</dt><dd>KI</dd>\\n<dt>Max Temp</dt><dd>81.14 °F</dd>\\n</dl>\\n',\n",
       " '\\n<dl>\\n<dt>Hotel Name</dt><dd></dd>\\n<dt>City</dt><dd>Nhulunbuy</dd>\\n<dt>Country</dt><dd>AU</dd>\\n<dt>Max Temp</dt><dd>81.21 °F</dd>\\n</dl>\\n',\n",
       " '\\n<dl>\\n<dt>Hotel Name</dt><dd></dd>\\n<dt>City</dt><dd>Edd</dd>\\n<dt>Country</dt><dd>ER</dd>\\n<dt>Max Temp</dt><dd>81.23 °F</dd>\\n</dl>\\n',\n",
       " '\\n<dl>\\n<dt>Hotel Name</dt><dd></dd>\\n<dt>City</dt><dd>Luanda</dd>\\n<dt>Country</dt><dd>AO</dd>\\n<dt>Max Temp</dt><dd>81.3 °F</dd>\\n</dl>\\n',\n",
       " '\\n<dl>\\n<dt>Hotel Name</dt><dd></dd>\\n<dt>City</dt><dd>Lorengau</dd>\\n<dt>Country</dt><dd>PG</dd>\\n<dt>Max Temp</dt><dd>81.48 °F</dd>\\n</dl>\\n',\n",
       " '\\n<dl>\\n<dt>Hotel Name</dt><dd></dd>\\n<dt>City</dt><dd>Areka</dd>\\n<dt>Country</dt><dd>ET</dd>\\n<dt>Max Temp</dt><dd>81.61 °F</dd>\\n</dl>\\n',\n",
       " '\\n<dl>\\n<dt>Hotel Name</dt><dd></dd>\\n<dt>City</dt><dd>Alice Springs</dd>\\n<dt>Country</dt><dd>AU</dd>\\n<dt>Max Temp</dt><dd>81.95 °F</dd>\\n</dl>\\n',\n",
       " '\\n<dl>\\n<dt>Hotel Name</dt><dd></dd>\\n<dt>City</dt><dd>Port Keats</dd>\\n<dt>Country</dt><dd>AU</dd>\\n<dt>Max Temp</dt><dd>81.99 °F</dd>\\n</dl>\\n',\n",
       " '\\n<dl>\\n<dt>Hotel Name</dt><dd></dd>\\n<dt>City</dt><dd>Jacqueville</dd>\\n<dt>Country</dt><dd>CI</dd>\\n<dt>Max Temp</dt><dd>82.04 °F</dd>\\n</dl>\\n',\n",
       " '\\n<dl>\\n<dt>Hotel Name</dt><dd></dd>\\n<dt>City</dt><dd>Mount Isa</dd>\\n<dt>Country</dt><dd>AU</dd>\\n<dt>Max Temp</dt><dd>82.17 °F</dd>\\n</dl>\\n',\n",
       " '\\n<dl>\\n<dt>Hotel Name</dt><dd></dd>\\n<dt>City</dt><dd>Faanui</dd>\\n<dt>Country</dt><dd>PF</dd>\\n<dt>Max Temp</dt><dd>82.18 °F</dd>\\n</dl>\\n',\n",
       " '\\n<dl>\\n<dt>Hotel Name</dt><dd></dd>\\n<dt>City</dt><dd>Mugango</dd>\\n<dt>Country</dt><dd>TZ</dd>\\n<dt>Max Temp</dt><dd>82.24 °F</dd>\\n</dl>\\n',\n",
       " '\\n<dl>\\n<dt>Hotel Name</dt><dd></dd>\\n<dt>City</dt><dd>Majene</dd>\\n<dt>Country</dt><dd>ID</dd>\\n<dt>Max Temp</dt><dd>82.27 °F</dd>\\n</dl>\\n',\n",
       " '\\n<dl>\\n<dt>Hotel Name</dt><dd></dd>\\n<dt>City</dt><dd>Kavaratti</dd>\\n<dt>Country</dt><dd>IN</dd>\\n<dt>Max Temp</dt><dd>82.31 °F</dd>\\n</dl>\\n',\n",
       " '\\n<dl>\\n<dt>Hotel Name</dt><dd></dd>\\n<dt>City</dt><dd>Kununurra</dd>\\n<dt>Country</dt><dd>AU</dd>\\n<dt>Max Temp</dt><dd>82.38 °F</dd>\\n</dl>\\n',\n",
       " '\\n<dl>\\n<dt>Hotel Name</dt><dd></dd>\\n<dt>City</dt><dd>Tual</dd>\\n<dt>Country</dt><dd>ID</dd>\\n<dt>Max Temp</dt><dd>82.42 °F</dd>\\n</dl>\\n',\n",
       " '\\n<dl>\\n<dt>Hotel Name</dt><dd></dd>\\n<dt>City</dt><dd>Rundu</dd>\\n<dt>Country</dt><dd>nan</dd>\\n<dt>Max Temp</dt><dd>82.44 °F</dd>\\n</dl>\\n',\n",
       " '\\n<dl>\\n<dt>Hotel Name</dt><dd></dd>\\n<dt>City</dt><dd>Carnarvon</dd>\\n<dt>Country</dt><dd>AU</dd>\\n<dt>Max Temp</dt><dd>82.47 °F</dd>\\n</dl>\\n',\n",
       " '\\n<dl>\\n<dt>Hotel Name</dt><dd></dd>\\n<dt>City</dt><dd>Sorong</dd>\\n<dt>Country</dt><dd>ID</dd>\\n<dt>Max Temp</dt><dd>82.49 °F</dd>\\n</dl>\\n',\n",
       " '\\n<dl>\\n<dt>Hotel Name</dt><dd></dd>\\n<dt>City</dt><dd>Kavieng</dd>\\n<dt>Country</dt><dd>PG</dd>\\n<dt>Max Temp</dt><dd>82.56 °F</dd>\\n</dl>\\n',\n",
       " '\\n<dl>\\n<dt>Hotel Name</dt><dd></dd>\\n<dt>City</dt><dd>Guirang</dd>\\n<dt>Country</dt><dd>PH</dd>\\n<dt>Max Temp</dt><dd>82.65 °F</dd>\\n</dl>\\n',\n",
       " '\\n<dl>\\n<dt>Hotel Name</dt><dd></dd>\\n<dt>City</dt><dd>Taoudenni</dd>\\n<dt>Country</dt><dd>ML</dd>\\n<dt>Max Temp</dt><dd>82.74 °F</dd>\\n</dl>\\n',\n",
       " '\\n<dl>\\n<dt>Hotel Name</dt><dd></dd>\\n<dt>City</dt><dd>Dingle</dd>\\n<dt>Country</dt><dd>PH</dd>\\n<dt>Max Temp</dt><dd>82.76 °F</dd>\\n</dl>\\n',\n",
       " '\\n<dl>\\n<dt>Hotel Name</dt><dd></dd>\\n<dt>City</dt><dd>Victoria</dd>\\n<dt>Country</dt><dd>HK</dd>\\n<dt>Max Temp</dt><dd>82.96 °F</dd>\\n</dl>\\n',\n",
       " '\\n<dl>\\n<dt>Hotel Name</dt><dd></dd>\\n<dt>City</dt><dd>Bilma</dd>\\n<dt>Country</dt><dd>NE</dd>\\n<dt>Max Temp</dt><dd>83.05 °F</dd>\\n</dl>\\n',\n",
       " '\\n<dl>\\n<dt>Hotel Name</dt><dd></dd>\\n<dt>City</dt><dd>Balabac</dd>\\n<dt>Country</dt><dd>PH</dd>\\n<dt>Max Temp</dt><dd>83.57 °F</dd>\\n</dl>\\n',\n",
       " '\\n<dl>\\n<dt>Hotel Name</dt><dd></dd>\\n<dt>City</dt><dd>Nioro</dd>\\n<dt>Country</dt><dd>GM</dd>\\n<dt>Max Temp</dt><dd>83.71 °F</dd>\\n</dl>\\n',\n",
       " '\\n<dl>\\n<dt>Hotel Name</dt><dd></dd>\\n<dt>City</dt><dd>Gamba</dd>\\n<dt>Country</dt><dd>GA</dd>\\n<dt>Max Temp</dt><dd>83.73 °F</dd>\\n</dl>\\n',\n",
       " '\\n<dl>\\n<dt>Hotel Name</dt><dd></dd>\\n<dt>City</dt><dd>Trincomalee</dd>\\n<dt>Country</dt><dd>LK</dd>\\n<dt>Max Temp</dt><dd>83.73 °F</dd>\\n</dl>\\n',\n",
       " '\\n<dl>\\n<dt>Hotel Name</dt><dd></dd>\\n<dt>City</dt><dd>Sumbe</dd>\\n<dt>Country</dt><dd>AO</dd>\\n<dt>Max Temp</dt><dd>83.75 °F</dd>\\n</dl>\\n',\n",
       " '\\n<dl>\\n<dt>Hotel Name</dt><dd></dd>\\n<dt>City</dt><dd>Hithadhoo</dd>\\n<dt>Country</dt><dd>MV</dd>\\n<dt>Max Temp</dt><dd>83.82 °F</dd>\\n</dl>\\n',\n",
       " '\\n<dl>\\n<dt>Hotel Name</dt><dd></dd>\\n<dt>City</dt><dd>Labuhan</dd>\\n<dt>Country</dt><dd>ID</dd>\\n<dt>Max Temp</dt><dd>83.89 °F</dd>\\n</dl>\\n',\n",
       " '\\n<dl>\\n<dt>Hotel Name</dt><dd></dd>\\n<dt>City</dt><dd>Axim</dd>\\n<dt>Country</dt><dd>GH</dd>\\n<dt>Max Temp</dt><dd>83.95 °F</dd>\\n</dl>\\n',\n",
       " '\\n<dl>\\n<dt>Hotel Name</dt><dd></dd>\\n<dt>City</dt><dd>Mount Darwin</dd>\\n<dt>Country</dt><dd>ZW</dd>\\n<dt>Max Temp</dt><dd>83.98 °F</dd>\\n</dl>\\n',\n",
       " '\\n<dl>\\n<dt>Hotel Name</dt><dd></dd>\\n<dt>City</dt><dd>Banda Aceh</dd>\\n<dt>Country</dt><dd>ID</dd>\\n<dt>Max Temp</dt><dd>84.04 °F</dd>\\n</dl>\\n',\n",
       " '\\n<dl>\\n<dt>Hotel Name</dt><dd></dd>\\n<dt>City</dt><dd>Meulaboh</dd>\\n<dt>Country</dt><dd>ID</dd>\\n<dt>Max Temp</dt><dd>84.38 °F</dd>\\n</dl>\\n',\n",
       " '\\n<dl>\\n<dt>Hotel Name</dt><dd></dd>\\n<dt>City</dt><dd>Gwadar</dd>\\n<dt>Country</dt><dd>PK</dd>\\n<dt>Max Temp</dt><dd>84.43 °F</dd>\\n</dl>\\n',\n",
       " '\\n<dl>\\n<dt>Hotel Name</dt><dd></dd>\\n<dt>City</dt><dd>Manavalakurichi</dd>\\n<dt>Country</dt><dd>IN</dd>\\n<dt>Max Temp</dt><dd>84.74 °F</dd>\\n</dl>\\n',\n",
       " '\\n<dl>\\n<dt>Hotel Name</dt><dd></dd>\\n<dt>City</dt><dd>Gberia Fotombu</dd>\\n<dt>Country</dt><dd>SL</dd>\\n<dt>Max Temp</dt><dd>84.79 °F</dd>\\n</dl>\\n',\n",
       " '\\n<dl>\\n<dt>Hotel Name</dt><dd></dd>\\n<dt>City</dt><dd>Najran</dd>\\n<dt>Country</dt><dd>SA</dd>\\n<dt>Max Temp</dt><dd>84.85 °F</dd>\\n</dl>\\n',\n",
       " '\\n<dl>\\n<dt>Hotel Name</dt><dd></dd>\\n<dt>City</dt><dd>Sambava</dd>\\n<dt>Country</dt><dd>MG</dd>\\n<dt>Max Temp</dt><dd>85.12 °F</dd>\\n</dl>\\n',\n",
       " '\\n<dl>\\n<dt>Hotel Name</dt><dd></dd>\\n<dt>City</dt><dd>Hobyo</dd>\\n<dt>Country</dt><dd>SO</dd>\\n<dt>Max Temp</dt><dd>85.19 °F</dd>\\n</dl>\\n',\n",
       " '\\n<dl>\\n<dt>Hotel Name</dt><dd></dd>\\n<dt>City</dt><dd>Bengkulu</dd>\\n<dt>Country</dt><dd>ID</dd>\\n<dt>Max Temp</dt><dd>85.32 °F</dd>\\n</dl>\\n',\n",
       " '\\n<dl>\\n<dt>Hotel Name</dt><dd></dd>\\n<dt>City</dt><dd>Phan Thiet</dd>\\n<dt>Country</dt><dd>VN</dd>\\n<dt>Max Temp</dt><dd>85.51 °F</dd>\\n</dl>\\n',\n",
       " '\\n<dl>\\n<dt>Hotel Name</dt><dd></dd>\\n<dt>City</dt><dd>Lingao</dd>\\n<dt>Country</dt><dd>CN</dd>\\n<dt>Max Temp</dt><dd>85.62 °F</dd>\\n</dl>\\n',\n",
       " '\\n<dl>\\n<dt>Hotel Name</dt><dd></dd>\\n<dt>City</dt><dd>Takoradi</dd>\\n<dt>Country</dt><dd>GH</dd>\\n<dt>Max Temp</dt><dd>85.78 °F</dd>\\n</dl>\\n',\n",
       " '\\n<dl>\\n<dt>Hotel Name</dt><dd></dd>\\n<dt>City</dt><dd>Porto Novo</dd>\\n<dt>Country</dt><dd>BJ</dd>\\n<dt>Max Temp</dt><dd>85.82 °F</dd>\\n</dl>\\n',\n",
       " '\\n<dl>\\n<dt>Hotel Name</dt><dd></dd>\\n<dt>City</dt><dd>Nampula</dd>\\n<dt>Country</dt><dd>MZ</dd>\\n<dt>Max Temp</dt><dd>85.95 °F</dd>\\n</dl>\\n',\n",
       " '\\n<dl>\\n<dt>Hotel Name</dt><dd></dd>\\n<dt>City</dt><dd>Kaohsiung</dd>\\n<dt>Country</dt><dd>TW</dd>\\n<dt>Max Temp</dt><dd>85.95 °F</dd>\\n</dl>\\n',\n",
       " '\\n<dl>\\n<dt>Hotel Name</dt><dd></dd>\\n<dt>City</dt><dd>Abu Dhabi</dd>\\n<dt>Country</dt><dd>AE</dd>\\n<dt>Max Temp</dt><dd>86.11 °F</dd>\\n</dl>\\n',\n",
       " '\\n<dl>\\n<dt>Hotel Name</dt><dd></dd>\\n<dt>City</dt><dd>Bukama</dd>\\n<dt>Country</dt><dd>CD</dd>\\n<dt>Max Temp</dt><dd>86.25 °F</dd>\\n</dl>\\n',\n",
       " '\\n<dl>\\n<dt>Hotel Name</dt><dd></dd>\\n<dt>City</dt><dd>Souillac</dd>\\n<dt>Country</dt><dd>MU</dd>\\n<dt>Max Temp</dt><dd>86.38 °F</dd>\\n</dl>\\n',\n",
       " '\\n<dl>\\n<dt>Hotel Name</dt><dd></dd>\\n<dt>City</dt><dd>Ayame</dd>\\n<dt>Country</dt><dd>CI</dd>\\n<dt>Max Temp</dt><dd>86.94 °F</dd>\\n</dl>\\n',\n",
       " '\\n<dl>\\n<dt>Hotel Name</dt><dd></dd>\\n<dt>City</dt><dd>Salalah</dd>\\n<dt>Country</dt><dd>OM</dd>\\n<dt>Max Temp</dt><dd>87.04 °F</dd>\\n</dl>\\n',\n",
       " '\\n<dl>\\n<dt>Hotel Name</dt><dd></dd>\\n<dt>City</dt><dd>Makueni</dd>\\n<dt>Country</dt><dd>KE</dd>\\n<dt>Max Temp</dt><dd>87.1 °F</dd>\\n</dl>\\n',\n",
       " '\\n<dl>\\n<dt>Hotel Name</dt><dd></dd>\\n<dt>City</dt><dd>Quatre Cocos</dd>\\n<dt>Country</dt><dd>MU</dd>\\n<dt>Max Temp</dt><dd>87.1 °F</dd>\\n</dl>\\n',\n",
       " '\\n<dl>\\n<dt>Hotel Name</dt><dd></dd>\\n<dt>City</dt><dd>Madimba</dd>\\n<dt>Country</dt><dd>TZ</dd>\\n<dt>Max Temp</dt><dd>87.21 °F</dd>\\n</dl>\\n',\n",
       " '\\n<dl>\\n<dt>Hotel Name</dt><dd></dd>\\n<dt>City</dt><dd>Bambous Virieux</dd>\\n<dt>Country</dt><dd>MU</dd>\\n<dt>Max Temp</dt><dd>87.22 °F</dd>\\n</dl>\\n',\n",
       " '\\n<dl>\\n<dt>Hotel Name</dt><dd></dd>\\n<dt>City</dt><dd>Mahebourg</dd>\\n<dt>Country</dt><dd>MU</dd>\\n<dt>Max Temp</dt><dd>87.26 °F</dd>\\n</dl>\\n',\n",
       " '\\n<dl>\\n<dt>Hotel Name</dt><dd></dd>\\n<dt>City</dt><dd>Payo</dd>\\n<dt>Country</dt><dd>ID</dd>\\n<dt>Max Temp</dt><dd>87.31 °F</dd>\\n</dl>\\n',\n",
       " '\\n<dl>\\n<dt>Hotel Name</dt><dd></dd>\\n<dt>City</dt><dd>Tirumullaivasal</dd>\\n<dt>Country</dt><dd>IN</dd>\\n<dt>Max Temp</dt><dd>87.37 °F</dd>\\n</dl>\\n',\n",
       " '\\n<dl>\\n<dt>Hotel Name</dt><dd></dd>\\n<dt>City</dt><dd>Bandraboua</dd>\\n<dt>Country</dt><dd>YT</dd>\\n<dt>Max Temp</dt><dd>87.48 °F</dd>\\n</dl>\\n',\n",
       " '\\n<dl>\\n<dt>Hotel Name</dt><dd></dd>\\n<dt>City</dt><dd>Koungou</dd>\\n<dt>Country</dt><dd>YT</dd>\\n<dt>Max Temp</dt><dd>87.51 °F</dd>\\n</dl>\\n',\n",
       " '\\n<dl>\\n<dt>Hotel Name</dt><dd></dd>\\n<dt>City</dt><dd>Narathiwat</dd>\\n<dt>Country</dt><dd>TH</dd>\\n<dt>Max Temp</dt><dd>87.66 °F</dd>\\n</dl>\\n',\n",
       " '\\n<dl>\\n<dt>Hotel Name</dt><dd></dd>\\n<dt>City</dt><dd>Mogadishu</dd>\\n<dt>Country</dt><dd>SO</dd>\\n<dt>Max Temp</dt><dd>87.67 °F</dd>\\n</dl>\\n',\n",
       " '\\n<dl>\\n<dt>Hotel Name</dt><dd></dd>\\n<dt>City</dt><dd>Gamboma</dd>\\n<dt>Country</dt><dd>CG</dd>\\n<dt>Max Temp</dt><dd>87.69 °F</dd>\\n</dl>\\n',\n",
       " '\\n<dl>\\n<dt>Hotel Name</dt><dd></dd>\\n<dt>City</dt><dd>Quelimane</dd>\\n<dt>Country</dt><dd>MZ</dd>\\n<dt>Max Temp</dt><dd>87.75 °F</dd>\\n</dl>\\n',\n",
       " '\\n<dl>\\n<dt>Hotel Name</dt><dd></dd>\\n<dt>City</dt><dd>Kinarut</dd>\\n<dt>Country</dt><dd>MY</dd>\\n<dt>Max Temp</dt><dd>87.82 °F</dd>\\n</dl>\\n',\n",
       " '\\n<dl>\\n<dt>Hotel Name</dt><dd></dd>\\n<dt>City</dt><dd>Padang</dd>\\n<dt>Country</dt><dd>ID</dd>\\n<dt>Max Temp</dt><dd>87.85 °F</dd>\\n</dl>\\n',\n",
       " '\\n<dl>\\n<dt>Hotel Name</dt><dd></dd>\\n<dt>City</dt><dd>Saint-Philippe</dd>\\n<dt>Country</dt><dd>RE</dd>\\n<dt>Max Temp</dt><dd>88.11 °F</dd>\\n</dl>\\n',\n",
       " '\\n<dl>\\n<dt>Hotel Name</dt><dd></dd>\\n<dt>City</dt><dd>Hambantota</dd>\\n<dt>Country</dt><dd>LK</dd>\\n<dt>Max Temp</dt><dd>88.14 °F</dd>\\n</dl>\\n',\n",
       " '\\n<dl>\\n<dt>Hotel Name</dt><dd></dd>\\n<dt>City</dt><dd>Djibo</dd>\\n<dt>Country</dt><dd>BF</dd>\\n<dt>Max Temp</dt><dd>88.77 °F</dd>\\n</dl>\\n',\n",
       " '\\n<dl>\\n<dt>Hotel Name</dt><dd></dd>\\n<dt>City</dt><dd>Marzuq</dd>\\n<dt>Country</dt><dd>YE</dd>\\n<dt>Max Temp</dt><dd>88.83 °F</dd>\\n</dl>\\n',\n",
       " '\\n<dl>\\n<dt>Hotel Name</dt><dd></dd>\\n<dt>City</dt><dd>Karratha</dd>\\n<dt>Country</dt><dd>AU</dd>\\n<dt>Max Temp</dt><dd>88.95 °F</dd>\\n</dl>\\n',\n",
       " '\\n<dl>\\n<dt>Hotel Name</dt><dd></dd>\\n<dt>City</dt><dd>Biltine</dd>\\n<dt>Country</dt><dd>TD</dd>\\n<dt>Max Temp</dt><dd>89.04 °F</dd>\\n</dl>\\n',\n",
       " '\\n<dl>\\n<dt>Hotel Name</dt><dd></dd>\\n<dt>City</dt><dd>Saint-Pierre</dd>\\n<dt>Country</dt><dd>RE</dd>\\n<dt>Max Temp</dt><dd>89.19 °F</dd>\\n</dl>\\n',\n",
       " '\\n<dl>\\n<dt>Hotel Name</dt><dd></dd>\\n<dt>City</dt><dd>Narasannapeta</dd>\\n<dt>Country</dt><dd>IN</dd>\\n<dt>Max Temp</dt><dd>89.2 °F</dd>\\n</dl>\\n',\n",
       " '\\n<dl>\\n<dt>Hotel Name</dt><dd></dd>\\n<dt>City</dt><dd>Yulara</dd>\\n<dt>Country</dt><dd>AU</dd>\\n<dt>Max Temp</dt><dd>89.44 °F</dd>\\n</dl>\\n',\n",
       " '\\n<dl>\\n<dt>Hotel Name</dt><dd></dd>\\n<dt>City</dt><dd>Tahoua</dd>\\n<dt>Country</dt><dd>NE</dd>\\n<dt>Max Temp</dt><dd>89.58 °F</dd>\\n</dl>\\n',\n",
       " '\\n<dl>\\n<dt>Hotel Name</dt><dd></dd>\\n<dt>City</dt><dd>Boende</dd>\\n<dt>Country</dt><dd>CD</dd>\\n<dt>Max Temp</dt><dd>89.69 °F</dd>\\n</dl>\\n',\n",
       " '\\n<dl>\\n<dt>Hotel Name</dt><dd></dd>\\n<dt>City</dt><dd>Mitsamiouli</dd>\\n<dt>Country</dt><dd>KM</dd>\\n<dt>Max Temp</dt><dd>89.89 °F</dd>\\n</dl>\\n',\n",
       " '\\n<dl>\\n<dt>Hotel Name</dt><dd>Sur Plaza Hotel</dd>\\n<dt>City</dt><dd>Sur</dd>\\n<dt>Country</dt><dd>OM</dd>\\n<dt>Max Temp</dt><dd>89.98 °F</dd>\\n</dl>\\n']"
      ]
     },
     "execution_count": 95,
     "metadata": {},
     "output_type": "execute_result"
    }
   ],
   "source": [
    "# Store the DataFrame Row.\n",
    "hotel_info = [info_box_template.format(**row) for index, row in hotel_df.iterrows()]\n",
    "hotel_info"
   ]
  },
  {
   "cell_type": "code",
   "execution_count": 96,
   "id": "230c0bca",
   "metadata": {},
   "outputs": [
    {
     "data": {
      "application/vnd.jupyter.widget-view+json": {
       "model_id": "65fef3831d2b48b2abaedf26c128fa30",
       "version_major": 2,
       "version_minor": 0
      },
      "text/plain": [
       "Figure(layout=FigureLayout(height='420px'))"
      ]
     },
     "metadata": {},
     "output_type": "display_data"
    }
   ],
   "source": [
    "# Add a heatmap of temperature for the vacation spots and a pop-up marker for each city.\n",
    "locations = hotel_df[[\"Lat\", \"Lng\"]]\n",
    "max_temp = hotel_df[\"Max Temp\"]\n",
    "fig = gmaps.figure(center=(30.0, 31.0), zoom_level=1.5)\n",
    "heat_layer = gmaps.heatmap_layer(locations, weights=max_temp,dissipating=False,\n",
    "             max_intensity=300, point_radius=4)\n",
    "marker_layer = gmaps.marker_layer(locations, info_box_content=hotel_info)\n",
    "fig.add_layer(heat_layer)\n",
    "fig.add_layer(marker_layer)\n",
    "\n",
    "# Call the figure to plot the data.\n",
    "fig"
   ]
  }
 ],
 "metadata": {
  "kernelspec": {
   "display_name": "Python 3 (ipykernel)",
   "language": "python",
   "name": "python3"
  },
  "language_info": {
   "codemirror_mode": {
    "name": "ipython",
    "version": 3
   },
   "file_extension": ".py",
   "mimetype": "text/x-python",
   "name": "python",
   "nbconvert_exporter": "python",
   "pygments_lexer": "ipython3",
   "version": "3.9.7"
  }
 },
 "nbformat": 4,
 "nbformat_minor": 5
}
